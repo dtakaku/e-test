{
 "cells": [
  {
   "cell_type": "markdown",
   "metadata": {
    "collapsed": true
   },
   "source": [
    "<h1>線形回帰モデル-Boston Hausing Data-</h1>"
   ]
  },
  {
   "cell_type": "markdown",
   "metadata": {},
   "source": [
    "<h2>1. 必要モジュールとデータのインポート</h2>"
   ]
  },
  {
   "cell_type": "code",
   "execution_count": 1,
   "metadata": {},
   "outputs": [],
   "source": [
    "#from モジュール名 import クラス名（もしくは関数名や変数名）\n",
    "from typing import List\n",
    "from pandas import DataFrame\n",
    "from sklearn.datasets import load_boston\n",
    "from sklearn.linear_model import LinearRegression\n",
    "from sklearn.model_selection import train_test_split\n",
    "\n",
    "\n",
    "import matplotlib.pyplot as plt\n",
    "import numpy as np\n",
    "import pandas as pd\n",
    "import seaborn as sns\n",
    "\n",
    "%matplotlib inline\n"
   ]
  },
  {
   "cell_type": "code",
   "execution_count": 2,
   "metadata": {},
   "outputs": [],
   "source": [
    "# ボストンデータを\"boston\"というインスタンスにインポート\n",
    "boston = load_boston()"
   ]
  },
  {
   "cell_type": "code",
   "execution_count": 3,
   "metadata": {},
   "outputs": [
    {
     "output_type": "stream",
     "name": "stdout",
     "text": [
      "{'data': array([[6.3200e-03, 1.8000e+01, 2.3100e+00, ..., 1.5300e+01, 3.9690e+02,\n        4.9800e+00],\n       [2.7310e-02, 0.0000e+00, 7.0700e+00, ..., 1.7800e+01, 3.9690e+02,\n        9.1400e+00],\n       [2.7290e-02, 0.0000e+00, 7.0700e+00, ..., 1.7800e+01, 3.9283e+02,\n        4.0300e+00],\n       ...,\n       [6.0760e-02, 0.0000e+00, 1.1930e+01, ..., 2.1000e+01, 3.9690e+02,\n        5.6400e+00],\n       [1.0959e-01, 0.0000e+00, 1.1930e+01, ..., 2.1000e+01, 3.9345e+02,\n        6.4800e+00],\n       [4.7410e-02, 0.0000e+00, 1.1930e+01, ..., 2.1000e+01, 3.9690e+02,\n        7.8800e+00]]), 'target': array([24. , 21.6, 34.7, 33.4, 36.2, 28.7, 22.9, 27.1, 16.5, 18.9, 15. ,\n       18.9, 21.7, 20.4, 18.2, 19.9, 23.1, 17.5, 20.2, 18.2, 13.6, 19.6,\n       15.2, 14.5, 15.6, 13.9, 16.6, 14.8, 18.4, 21. , 12.7, 14.5, 13.2,\n       13.1, 13.5, 18.9, 20. , 21. , 24.7, 30.8, 34.9, 26.6, 25.3, 24.7,\n       21.2, 19.3, 20. , 16.6, 14.4, 19.4, 19.7, 20.5, 25. , 23.4, 18.9,\n       35.4, 24.7, 31.6, 23.3, 19.6, 18.7, 16. , 22.2, 25. , 33. , 23.5,\n       19.4, 22. , 17.4, 20.9, 24.2, 21.7, 22.8, 23.4, 24.1, 21.4, 20. ,\n       20.8, 21.2, 20.3, 28. , 23.9, 24.8, 22.9, 23.9, 26.6, 22.5, 22.2,\n       23.6, 28.7, 22.6, 22. , 22.9, 25. , 20.6, 28.4, 21.4, 38.7, 43.8,\n       33.2, 27.5, 26.5, 18.6, 19.3, 20.1, 19.5, 19.5, 20.4, 19.8, 19.4,\n       21.7, 22.8, 18.8, 18.7, 18.5, 18.3, 21.2, 19.2, 20.4, 19.3, 22. ,\n       20.3, 20.5, 17.3, 18.8, 21.4, 15.7, 16.2, 18. , 14.3, 19.2, 19.6,\n       23. , 18.4, 15.6, 18.1, 17.4, 17.1, 13.3, 17.8, 14. , 14.4, 13.4,\n       15.6, 11.8, 13.8, 15.6, 14.6, 17.8, 15.4, 21.5, 19.6, 15.3, 19.4,\n       17. , 15.6, 13.1, 41.3, 24.3, 23.3, 27. , 50. , 50. , 50. , 22.7,\n       25. , 50. , 23.8, 23.8, 22.3, 17.4, 19.1, 23.1, 23.6, 22.6, 29.4,\n       23.2, 24.6, 29.9, 37.2, 39.8, 36.2, 37.9, 32.5, 26.4, 29.6, 50. ,\n       32. , 29.8, 34.9, 37. , 30.5, 36.4, 31.1, 29.1, 50. , 33.3, 30.3,\n       34.6, 34.9, 32.9, 24.1, 42.3, 48.5, 50. , 22.6, 24.4, 22.5, 24.4,\n       20. , 21.7, 19.3, 22.4, 28.1, 23.7, 25. , 23.3, 28.7, 21.5, 23. ,\n       26.7, 21.7, 27.5, 30.1, 44.8, 50. , 37.6, 31.6, 46.7, 31.5, 24.3,\n       31.7, 41.7, 48.3, 29. , 24. , 25.1, 31.5, 23.7, 23.3, 22. , 20.1,\n       22.2, 23.7, 17.6, 18.5, 24.3, 20.5, 24.5, 26.2, 24.4, 24.8, 29.6,\n       42.8, 21.9, 20.9, 44. , 50. , 36. , 30.1, 33.8, 43.1, 48.8, 31. ,\n       36.5, 22.8, 30.7, 50. , 43.5, 20.7, 21.1, 25.2, 24.4, 35.2, 32.4,\n       32. , 33.2, 33.1, 29.1, 35.1, 45.4, 35.4, 46. , 50. , 32.2, 22. ,\n       20.1, 23.2, 22.3, 24.8, 28.5, 37.3, 27.9, 23.9, 21.7, 28.6, 27.1,\n       20.3, 22.5, 29. , 24.8, 22. , 26.4, 33.1, 36.1, 28.4, 33.4, 28.2,\n       22.8, 20.3, 16.1, 22.1, 19.4, 21.6, 23.8, 16.2, 17.8, 19.8, 23.1,\n       21. , 23.8, 23.1, 20.4, 18.5, 25. , 24.6, 23. , 22.2, 19.3, 22.6,\n       19.8, 17.1, 19.4, 22.2, 20.7, 21.1, 19.5, 18.5, 20.6, 19. , 18.7,\n       32.7, 16.5, 23.9, 31.2, 17.5, 17.2, 23.1, 24.5, 26.6, 22.9, 24.1,\n       18.6, 30.1, 18.2, 20.6, 17.8, 21.7, 22.7, 22.6, 25. , 19.9, 20.8,\n       16.8, 21.9, 27.5, 21.9, 23.1, 50. , 50. , 50. , 50. , 50. , 13.8,\n       13.8, 15. , 13.9, 13.3, 13.1, 10.2, 10.4, 10.9, 11.3, 12.3,  8.8,\n        7.2, 10.5,  7.4, 10.2, 11.5, 15.1, 23.2,  9.7, 13.8, 12.7, 13.1,\n       12.5,  8.5,  5. ,  6.3,  5.6,  7.2, 12.1,  8.3,  8.5,  5. , 11.9,\n       27.9, 17.2, 27.5, 15. , 17.2, 17.9, 16.3,  7. ,  7.2,  7.5, 10.4,\n        8.8,  8.4, 16.7, 14.2, 20.8, 13.4, 11.7,  8.3, 10.2, 10.9, 11. ,\n        9.5, 14.5, 14.1, 16.1, 14.3, 11.7, 13.4,  9.6,  8.7,  8.4, 12.8,\n       10.5, 17.1, 18.4, 15.4, 10.8, 11.8, 14.9, 12.6, 14.1, 13. , 13.4,\n       15.2, 16.1, 17.8, 14.9, 14.1, 12.7, 13.5, 14.9, 20. , 16.4, 17.7,\n       19.5, 20.2, 21.4, 19.9, 19. , 19.1, 19.1, 20.1, 19.9, 19.6, 23.2,\n       29.8, 13.8, 13.3, 16.7, 12. , 14.6, 21.4, 23. , 23.7, 25. , 21.8,\n       20.6, 21.2, 19.1, 20.6, 15.2,  7. ,  8.1, 13.6, 20.1, 21.8, 24.5,\n       23.1, 19.7, 18.3, 21.2, 17.5, 16.8, 22.4, 20.6, 23.9, 22. , 11.9]), 'feature_names': array(['CRIM', 'ZN', 'INDUS', 'CHAS', 'NOX', 'RM', 'AGE', 'DIS', 'RAD',\n       'TAX', 'PTRATIO', 'B', 'LSTAT'], dtype='<U7'), 'DESCR': \".. _boston_dataset:\\n\\nBoston house prices dataset\\n---------------------------\\n\\n**Data Set Characteristics:**  \\n\\n    :Number of Instances: 506 \\n\\n    :Number of Attributes: 13 numeric/categorical predictive. Median Value (attribute 14) is usually the target.\\n\\n    :Attribute Information (in order):\\n        - CRIM     per capita crime rate by town\\n        - ZN       proportion of residential land zoned for lots over 25,000 sq.ft.\\n        - INDUS    proportion of non-retail business acres per town\\n        - CHAS     Charles River dummy variable (= 1 if tract bounds river; 0 otherwise)\\n        - NOX      nitric oxides concentration (parts per 10 million)\\n        - RM       average number of rooms per dwelling\\n        - AGE      proportion of owner-occupied units built prior to 1940\\n        - DIS      weighted distances to five Boston employment centres\\n        - RAD      index of accessibility to radial highways\\n        - TAX      full-value property-tax rate per $10,000\\n        - PTRATIO  pupil-teacher ratio by town\\n        - B        1000(Bk - 0.63)^2 where Bk is the proportion of blacks by town\\n        - LSTAT    % lower status of the population\\n        - MEDV     Median value of owner-occupied homes in $1000's\\n\\n    :Missing Attribute Values: None\\n\\n    :Creator: Harrison, D. and Rubinfeld, D.L.\\n\\nThis is a copy of UCI ML housing dataset.\\nhttps://archive.ics.uci.edu/ml/machine-learning-databases/housing/\\n\\n\\nThis dataset was taken from the StatLib library which is maintained at Carnegie Mellon University.\\n\\nThe Boston house-price data of Harrison, D. and Rubinfeld, D.L. 'Hedonic\\nprices and the demand for clean air', J. Environ. Economics & Management,\\nvol.5, 81-102, 1978.   Used in Belsley, Kuh & Welsch, 'Regression diagnostics\\n...', Wiley, 1980.   N.B. Various transformations are used in the table on\\npages 244-261 of the latter.\\n\\nThe Boston house-price data has been used in many machine learning papers that address regression\\nproblems.   \\n     \\n.. topic:: References\\n\\n   - Belsley, Kuh & Welsch, 'Regression diagnostics: Identifying Influential Data and Sources of Collinearity', Wiley, 1980. 244-261.\\n   - Quinlan,R. (1993). Combining Instance-Based and Model-Based Learning. In Proceedings on the Tenth International Conference of Machine Learning, 236-243, University of Massachusetts, Amherst. Morgan Kaufmann.\\n\", 'filename': '/home/takaku/.pyenv/versions/3.8.2/lib/python3.8/site-packages/sklearn/datasets/data/boston_house_prices.csv'}\n"
     ]
    }
   ],
   "source": [
    "#インポートしたデータを確認(data / target / feature_names / DESCR)\n",
    "print(boston)"
   ]
  },
  {
   "cell_type": "code",
   "execution_count": 4,
   "metadata": {},
   "outputs": [
    {
     "output_type": "execute_result",
     "data": {
      "text/plain": [
       "sklearn.utils.Bunch"
      ]
     },
     "metadata": {},
     "execution_count": 4
    }
   ],
   "source": [
    "type(boston)"
   ]
  },
  {
   "cell_type": "code",
   "execution_count": 5,
   "metadata": {},
   "outputs": [
    {
     "output_type": "stream",
     "name": "stdout",
     "text": [
      ".. _boston_dataset:\n\nBoston house prices dataset\n---------------------------\n\n**Data Set Characteristics:**  \n\n    :Number of Instances: 506 \n\n    :Number of Attributes: 13 numeric/categorical predictive. Median Value (attribute 14) is usually the target.\n\n    :Attribute Information (in order):\n        - CRIM     per capita crime rate by town\n        - ZN       proportion of residential land zoned for lots over 25,000 sq.ft.\n        - INDUS    proportion of non-retail business acres per town\n        - CHAS     Charles River dummy variable (= 1 if tract bounds river; 0 otherwise)\n        - NOX      nitric oxides concentration (parts per 10 million)\n        - RM       average number of rooms per dwelling\n        - AGE      proportion of owner-occupied units built prior to 1940\n        - DIS      weighted distances to five Boston employment centres\n        - RAD      index of accessibility to radial highways\n        - TAX      full-value property-tax rate per $10,000\n        - PTRATIO  pupil-teacher ratio by town\n        - B        1000(Bk - 0.63)^2 where Bk is the proportion of blacks by town\n        - LSTAT    % lower status of the population\n        - MEDV     Median value of owner-occupied homes in $1000's\n\n    :Missing Attribute Values: None\n\n    :Creator: Harrison, D. and Rubinfeld, D.L.\n\nThis is a copy of UCI ML housing dataset.\nhttps://archive.ics.uci.edu/ml/machine-learning-databases/housing/\n\n\nThis dataset was taken from the StatLib library which is maintained at Carnegie Mellon University.\n\nThe Boston house-price data of Harrison, D. and Rubinfeld, D.L. 'Hedonic\nprices and the demand for clean air', J. Environ. Economics & Management,\nvol.5, 81-102, 1978.   Used in Belsley, Kuh & Welsch, 'Regression diagnostics\n...', Wiley, 1980.   N.B. Various transformations are used in the table on\npages 244-261 of the latter.\n\nThe Boston house-price data has been used in many machine learning papers that address regression\nproblems.   \n     \n.. topic:: References\n\n   - Belsley, Kuh & Welsch, 'Regression diagnostics: Identifying Influential Data and Sources of Collinearity', Wiley, 1980. 244-261.\n   - Quinlan,R. (1993). Combining Instance-Based and Model-Based Learning. In Proceedings on the Tenth International Conference of Machine Learning, 236-243, University of Massachusetts, Amherst. Morgan Kaufmann.\n\n"
     ]
    }
   ],
   "source": [
    "#DESCR変数の中身を確認\n",
    "print(boston['DESCR'])"
   ]
  },
  {
   "cell_type": "code",
   "execution_count": 6,
   "metadata": {},
   "outputs": [
    {
     "output_type": "stream",
     "name": "stdout",
     "text": [
      "['CRIM' 'ZN' 'INDUS' 'CHAS' 'NOX' 'RM' 'AGE' 'DIS' 'RAD' 'TAX' 'PTRATIO'\n 'B' 'LSTAT']\n"
     ]
    }
   ],
   "source": [
    "#feature_names変数の中身を確認\n",
    "#カラム名\n",
    "print(boston['feature_names'])"
   ]
  },
  {
   "cell_type": "code",
   "execution_count": 7,
   "metadata": {},
   "outputs": [
    {
     "output_type": "stream",
     "name": "stdout",
     "text": [
      "[[6.3200e-03 1.8000e+01 2.3100e+00 ... 1.5300e+01 3.9690e+02 4.9800e+00]\n [2.7310e-02 0.0000e+00 7.0700e+00 ... 1.7800e+01 3.9690e+02 9.1400e+00]\n [2.7290e-02 0.0000e+00 7.0700e+00 ... 1.7800e+01 3.9283e+02 4.0300e+00]\n ...\n [6.0760e-02 0.0000e+00 1.1930e+01 ... 2.1000e+01 3.9690e+02 5.6400e+00]\n [1.0959e-01 0.0000e+00 1.1930e+01 ... 2.1000e+01 3.9345e+02 6.4800e+00]\n [4.7410e-02 0.0000e+00 1.1930e+01 ... 2.1000e+01 3.9690e+02 7.8800e+00]]\n"
     ]
    }
   ],
   "source": [
    "#data変数(説明変数)の中身を確認\n",
    "print(boston['data'])"
   ]
  },
  {
   "cell_type": "code",
   "execution_count": 8,
   "metadata": {},
   "outputs": [
    {
     "output_type": "stream",
     "name": "stdout",
     "text": [
      "[24.  21.6 34.7 33.4 36.2 28.7 22.9 27.1 16.5 18.9 15.  18.9 21.7 20.4\n 18.2 19.9 23.1 17.5 20.2 18.2 13.6 19.6 15.2 14.5 15.6 13.9 16.6 14.8\n 18.4 21.  12.7 14.5 13.2 13.1 13.5 18.9 20.  21.  24.7 30.8 34.9 26.6\n 25.3 24.7 21.2 19.3 20.  16.6 14.4 19.4 19.7 20.5 25.  23.4 18.9 35.4\n 24.7 31.6 23.3 19.6 18.7 16.  22.2 25.  33.  23.5 19.4 22.  17.4 20.9\n 24.2 21.7 22.8 23.4 24.1 21.4 20.  20.8 21.2 20.3 28.  23.9 24.8 22.9\n 23.9 26.6 22.5 22.2 23.6 28.7 22.6 22.  22.9 25.  20.6 28.4 21.4 38.7\n 43.8 33.2 27.5 26.5 18.6 19.3 20.1 19.5 19.5 20.4 19.8 19.4 21.7 22.8\n 18.8 18.7 18.5 18.3 21.2 19.2 20.4 19.3 22.  20.3 20.5 17.3 18.8 21.4\n 15.7 16.2 18.  14.3 19.2 19.6 23.  18.4 15.6 18.1 17.4 17.1 13.3 17.8\n 14.  14.4 13.4 15.6 11.8 13.8 15.6 14.6 17.8 15.4 21.5 19.6 15.3 19.4\n 17.  15.6 13.1 41.3 24.3 23.3 27.  50.  50.  50.  22.7 25.  50.  23.8\n 23.8 22.3 17.4 19.1 23.1 23.6 22.6 29.4 23.2 24.6 29.9 37.2 39.8 36.2\n 37.9 32.5 26.4 29.6 50.  32.  29.8 34.9 37.  30.5 36.4 31.1 29.1 50.\n 33.3 30.3 34.6 34.9 32.9 24.1 42.3 48.5 50.  22.6 24.4 22.5 24.4 20.\n 21.7 19.3 22.4 28.1 23.7 25.  23.3 28.7 21.5 23.  26.7 21.7 27.5 30.1\n 44.8 50.  37.6 31.6 46.7 31.5 24.3 31.7 41.7 48.3 29.  24.  25.1 31.5\n 23.7 23.3 22.  20.1 22.2 23.7 17.6 18.5 24.3 20.5 24.5 26.2 24.4 24.8\n 29.6 42.8 21.9 20.9 44.  50.  36.  30.1 33.8 43.1 48.8 31.  36.5 22.8\n 30.7 50.  43.5 20.7 21.1 25.2 24.4 35.2 32.4 32.  33.2 33.1 29.1 35.1\n 45.4 35.4 46.  50.  32.2 22.  20.1 23.2 22.3 24.8 28.5 37.3 27.9 23.9\n 21.7 28.6 27.1 20.3 22.5 29.  24.8 22.  26.4 33.1 36.1 28.4 33.4 28.2\n 22.8 20.3 16.1 22.1 19.4 21.6 23.8 16.2 17.8 19.8 23.1 21.  23.8 23.1\n 20.4 18.5 25.  24.6 23.  22.2 19.3 22.6 19.8 17.1 19.4 22.2 20.7 21.1\n 19.5 18.5 20.6 19.  18.7 32.7 16.5 23.9 31.2 17.5 17.2 23.1 24.5 26.6\n 22.9 24.1 18.6 30.1 18.2 20.6 17.8 21.7 22.7 22.6 25.  19.9 20.8 16.8\n 21.9 27.5 21.9 23.1 50.  50.  50.  50.  50.  13.8 13.8 15.  13.9 13.3\n 13.1 10.2 10.4 10.9 11.3 12.3  8.8  7.2 10.5  7.4 10.2 11.5 15.1 23.2\n  9.7 13.8 12.7 13.1 12.5  8.5  5.   6.3  5.6  7.2 12.1  8.3  8.5  5.\n 11.9 27.9 17.2 27.5 15.  17.2 17.9 16.3  7.   7.2  7.5 10.4  8.8  8.4\n 16.7 14.2 20.8 13.4 11.7  8.3 10.2 10.9 11.   9.5 14.5 14.1 16.1 14.3\n 11.7 13.4  9.6  8.7  8.4 12.8 10.5 17.1 18.4 15.4 10.8 11.8 14.9 12.6\n 14.1 13.  13.4 15.2 16.1 17.8 14.9 14.1 12.7 13.5 14.9 20.  16.4 17.7\n 19.5 20.2 21.4 19.9 19.  19.1 19.1 20.1 19.9 19.6 23.2 29.8 13.8 13.3\n 16.7 12.  14.6 21.4 23.  23.7 25.  21.8 20.6 21.2 19.1 20.6 15.2  7.\n  8.1 13.6 20.1 21.8 24.5 23.1 19.7 18.3 21.2 17.5 16.8 22.4 20.6 23.9\n 22.  11.9]\n"
     ]
    }
   ],
   "source": [
    "#target変数(目的変数)の中身を確認\n",
    "print(boston['target'])"
   ]
  },
  {
   "cell_type": "markdown",
   "metadata": {},
   "source": [
    "<h2>2. データフレームの作成</h2>"
   ]
  },
  {
   "cell_type": "code",
   "execution_count": 9,
   "metadata": {},
   "outputs": [],
   "source": [
    "#　説明変数らをDataFrameへ変換\n",
    "df: pd.DataFrame = DataFrame(data=boston.data, columns = boston.feature_names)"
   ]
  },
  {
   "cell_type": "code",
   "execution_count": 10,
   "metadata": {},
   "outputs": [],
   "source": [
    "# 目的変数をDataFrameへ追加\n",
    "df = df.assign(\n",
    "    PRICE = np.array(boston.target)\n",
    ")"
   ]
  },
  {
   "cell_type": "code",
   "execution_count": 11,
   "metadata": {},
   "outputs": [
    {
     "output_type": "stream",
     "name": "stdout",
     "text": [
      "(506, 14)\n"
     ]
    },
    {
     "output_type": "execute_result",
     "data": {
      "text/plain": [
       "      CRIM    ZN  INDUS  CHAS    NOX     RM   AGE     DIS  RAD    TAX  \\\n",
       "0  0.00632  18.0   2.31   0.0  0.538  6.575  65.2  4.0900  1.0  296.0   \n",
       "1  0.02731   0.0   7.07   0.0  0.469  6.421  78.9  4.9671  2.0  242.0   \n",
       "2  0.02729   0.0   7.07   0.0  0.469  7.185  61.1  4.9671  2.0  242.0   \n",
       "3  0.03237   0.0   2.18   0.0  0.458  6.998  45.8  6.0622  3.0  222.0   \n",
       "4  0.06905   0.0   2.18   0.0  0.458  7.147  54.2  6.0622  3.0  222.0   \n",
       "\n",
       "   PTRATIO       B  LSTAT  PRICE  \n",
       "0     15.3  396.90   4.98   24.0  \n",
       "1     17.8  396.90   9.14   21.6  \n",
       "2     17.8  392.83   4.03   34.7  \n",
       "3     18.7  394.63   2.94   33.4  \n",
       "4     18.7  396.90   5.33   36.2  "
      ],
      "text/html": "<div>\n<style scoped>\n    .dataframe tbody tr th:only-of-type {\n        vertical-align: middle;\n    }\n\n    .dataframe tbody tr th {\n        vertical-align: top;\n    }\n\n    .dataframe thead th {\n        text-align: right;\n    }\n</style>\n<table border=\"1\" class=\"dataframe\">\n  <thead>\n    <tr style=\"text-align: right;\">\n      <th></th>\n      <th>CRIM</th>\n      <th>ZN</th>\n      <th>INDUS</th>\n      <th>CHAS</th>\n      <th>NOX</th>\n      <th>RM</th>\n      <th>AGE</th>\n      <th>DIS</th>\n      <th>RAD</th>\n      <th>TAX</th>\n      <th>PTRATIO</th>\n      <th>B</th>\n      <th>LSTAT</th>\n      <th>PRICE</th>\n    </tr>\n  </thead>\n  <tbody>\n    <tr>\n      <th>0</th>\n      <td>0.00632</td>\n      <td>18.0</td>\n      <td>2.31</td>\n      <td>0.0</td>\n      <td>0.538</td>\n      <td>6.575</td>\n      <td>65.2</td>\n      <td>4.0900</td>\n      <td>1.0</td>\n      <td>296.0</td>\n      <td>15.3</td>\n      <td>396.90</td>\n      <td>4.98</td>\n      <td>24.0</td>\n    </tr>\n    <tr>\n      <th>1</th>\n      <td>0.02731</td>\n      <td>0.0</td>\n      <td>7.07</td>\n      <td>0.0</td>\n      <td>0.469</td>\n      <td>6.421</td>\n      <td>78.9</td>\n      <td>4.9671</td>\n      <td>2.0</td>\n      <td>242.0</td>\n      <td>17.8</td>\n      <td>396.90</td>\n      <td>9.14</td>\n      <td>21.6</td>\n    </tr>\n    <tr>\n      <th>2</th>\n      <td>0.02729</td>\n      <td>0.0</td>\n      <td>7.07</td>\n      <td>0.0</td>\n      <td>0.469</td>\n      <td>7.185</td>\n      <td>61.1</td>\n      <td>4.9671</td>\n      <td>2.0</td>\n      <td>242.0</td>\n      <td>17.8</td>\n      <td>392.83</td>\n      <td>4.03</td>\n      <td>34.7</td>\n    </tr>\n    <tr>\n      <th>3</th>\n      <td>0.03237</td>\n      <td>0.0</td>\n      <td>2.18</td>\n      <td>0.0</td>\n      <td>0.458</td>\n      <td>6.998</td>\n      <td>45.8</td>\n      <td>6.0622</td>\n      <td>3.0</td>\n      <td>222.0</td>\n      <td>18.7</td>\n      <td>394.63</td>\n      <td>2.94</td>\n      <td>33.4</td>\n    </tr>\n    <tr>\n      <th>4</th>\n      <td>0.06905</td>\n      <td>0.0</td>\n      <td>2.18</td>\n      <td>0.0</td>\n      <td>0.458</td>\n      <td>7.147</td>\n      <td>54.2</td>\n      <td>6.0622</td>\n      <td>3.0</td>\n      <td>222.0</td>\n      <td>18.7</td>\n      <td>396.90</td>\n      <td>5.33</td>\n      <td>36.2</td>\n    </tr>\n  </tbody>\n</table>\n</div>"
     },
     "metadata": {},
     "execution_count": 11
    }
   ],
   "source": [
    "# 最初の5行を表示\n",
    "print(df.shape)\n",
    "df.head(5)\n"
   ]
  },
  {
   "cell_type": "markdown",
   "metadata": {
    "collapsed": true
   },
   "source": [
    "<h1>線形単回帰分析</h1>"
   ]
  },
  {
   "cell_type": "code",
   "execution_count": 12,
   "metadata": {},
   "outputs": [
    {
     "output_type": "execute_result",
     "data": {
      "text/plain": [
       "      RM\n",
       "0  6.575\n",
       "1  6.421\n",
       "2  7.185\n",
       "3  6.998\n",
       "4  7.147"
      ],
      "text/html": "<div>\n<style scoped>\n    .dataframe tbody tr th:only-of-type {\n        vertical-align: middle;\n    }\n\n    .dataframe tbody tr th {\n        vertical-align: top;\n    }\n\n    .dataframe thead th {\n        text-align: right;\n    }\n</style>\n<table border=\"1\" class=\"dataframe\">\n  <thead>\n    <tr style=\"text-align: right;\">\n      <th></th>\n      <th>RM</th>\n    </tr>\n  </thead>\n  <tbody>\n    <tr>\n      <th>0</th>\n      <td>6.575</td>\n    </tr>\n    <tr>\n      <th>1</th>\n      <td>6.421</td>\n    </tr>\n    <tr>\n      <th>2</th>\n      <td>7.185</td>\n    </tr>\n    <tr>\n      <th>3</th>\n      <td>6.998</td>\n    </tr>\n    <tr>\n      <th>4</th>\n      <td>7.147</td>\n    </tr>\n  </tbody>\n</table>\n</div>"
     },
     "metadata": {},
     "execution_count": 12
    }
   ],
   "source": [
    "#カラムを指定してデータを表示\n",
    "df[['RM']].head()"
   ]
  },
  {
   "cell_type": "code",
   "execution_count": 18,
   "metadata": {},
   "outputs": [],
   "source": [
    "# 説明変数\n",
    "data: np.ndarray = df.loc[:, ['RM']].values"
   ]
  },
  {
   "cell_type": "code",
   "execution_count": 19,
   "metadata": {},
   "outputs": [
    {
     "output_type": "execute_result",
     "data": {
      "text/plain": [
       "array([[6.575],\n",
       "       [6.421],\n",
       "       [7.185],\n",
       "       [6.998],\n",
       "       [7.147]])"
      ]
     },
     "metadata": {},
     "execution_count": 19
    }
   ],
   "source": [
    "#dataリストの表示(1-5)\n",
    "data[0:5]"
   ]
  },
  {
   "cell_type": "code",
   "execution_count": 20,
   "metadata": {},
   "outputs": [],
   "source": [
    "# 目的変数\n",
    "target: np.ndarray = df.loc[:, 'PRICE'].values"
   ]
  },
  {
   "cell_type": "code",
   "execution_count": 21,
   "metadata": {},
   "outputs": [
    {
     "output_type": "execute_result",
     "data": {
      "text/plain": [
       "array([24. , 21.6, 34.7, 33.4, 36.2])"
      ]
     },
     "metadata": {},
     "execution_count": 21
    }
   ],
   "source": [
    "target[0:5]"
   ]
  },
  {
   "cell_type": "code",
   "execution_count": 22,
   "metadata": {},
   "outputs": [],
   "source": [
    "# オブジェクト生成\n",
    "model: LinearRegression = LinearRegression()\n",
    "model.get_params()\n",
    "model = LinearRegression(fit_intercept = True, normalize = True, copy_X = True,  n_jobs = 1)"
   ]
  },
  {
   "cell_type": "code",
   "execution_count": 23,
   "metadata": {},
   "outputs": [
    {
     "output_type": "execute_result",
     "data": {
      "text/plain": [
       "LinearRegression(n_jobs=1, normalize=True)"
      ]
     },
     "metadata": {},
     "execution_count": 23
    }
   ],
   "source": [
    "# fit関数でパラメータ推定\n",
    "model.fit(data, target)"
   ]
  },
  {
   "cell_type": "code",
   "execution_count": 24,
   "metadata": {},
   "outputs": [
    {
     "output_type": "stream",
     "name": "stdout",
     "text": [
      "[-25.5685118]\n[-16.46640281]\n[-7.36429383]\n[1.73781515]\n[10.83992413]\n[19.94203311]\n[29.04414209]\n[38.14625107]\n[47.24836005]\n"
     ]
    }
   ],
   "source": [
    "#予測\n",
    "for rm in list(range(1,10)):\n",
    "    print(model.predict([[rm]]))"
   ]
  },
  {
   "cell_type": "markdown",
   "metadata": {
    "collapsed": true
   },
   "source": [
    "<h1>重回帰分析(2変数)</h1>"
   ]
  },
  {
   "cell_type": "code",
   "execution_count": 25,
   "metadata": {},
   "outputs": [
    {
     "output_type": "execute_result",
     "data": {
      "text/plain": [
       "      CRIM     RM\n",
       "0  0.00632  6.575\n",
       "1  0.02731  6.421\n",
       "2  0.02729  7.185\n",
       "3  0.03237  6.998\n",
       "4  0.06905  7.147"
      ],
      "text/html": "<div>\n<style scoped>\n    .dataframe tbody tr th:only-of-type {\n        vertical-align: middle;\n    }\n\n    .dataframe tbody tr th {\n        vertical-align: top;\n    }\n\n    .dataframe thead th {\n        text-align: right;\n    }\n</style>\n<table border=\"1\" class=\"dataframe\">\n  <thead>\n    <tr style=\"text-align: right;\">\n      <th></th>\n      <th>CRIM</th>\n      <th>RM</th>\n    </tr>\n  </thead>\n  <tbody>\n    <tr>\n      <th>0</th>\n      <td>0.00632</td>\n      <td>6.575</td>\n    </tr>\n    <tr>\n      <th>1</th>\n      <td>0.02731</td>\n      <td>6.421</td>\n    </tr>\n    <tr>\n      <th>2</th>\n      <td>0.02729</td>\n      <td>7.185</td>\n    </tr>\n    <tr>\n      <th>3</th>\n      <td>0.03237</td>\n      <td>6.998</td>\n    </tr>\n    <tr>\n      <th>4</th>\n      <td>0.06905</td>\n      <td>7.147</td>\n    </tr>\n  </tbody>\n</table>\n</div>"
     },
     "metadata": {},
     "execution_count": 25
    }
   ],
   "source": [
    "#カラムを指定してデータを表示\n",
    "df[['CRIM', 'RM']].head()"
   ]
  },
  {
   "cell_type": "code",
   "execution_count": 30,
   "metadata": {},
   "outputs": [],
   "source": [
    "# 説明変数\n",
    "\n",
    "data2: np.ndarray = df.loc[:, ['CRIM', 'RM']].values\n",
    "# 目的変数\n",
    "target2: np.ndarray = df.loc[:, 'PRICE'].values"
   ]
  },
  {
   "cell_type": "code",
   "execution_count": 27,
   "metadata": {},
   "outputs": [],
   "source": [
    "# オブジェクト生成\n",
    "model2: LinearRegression = LinearRegression()"
   ]
  },
  {
   "cell_type": "code",
   "execution_count": 31,
   "metadata": {},
   "outputs": [
    {
     "output_type": "execute_result",
     "data": {
      "text/plain": [
       "LinearRegression()"
      ]
     },
     "metadata": {},
     "execution_count": 31
    }
   ],
   "source": [
    "# fit関数でパラメータ推定\n",
    "model2.fit(data2, target2)"
   ]
  },
  {
   "cell_type": "code",
   "execution_count": 35,
   "metadata": {},
   "outputs": [
    {
     "output_type": "execute_result",
     "data": {
      "text/plain": [
       "array([4.24007956])"
      ]
     },
     "metadata": {},
     "execution_count": 35
    }
   ],
   "source": [
    "# 課題 \"部屋数が4で犯罪率が0.3の物件はいくらになるか？\"\n",
    "model2.predict([[0.3, 4]])"
   ]
  },
  {
   "cell_type": "code",
   "execution_count": null,
   "metadata": {},
   "outputs": [],
   "source": []
  },
  {
   "cell_type": "code",
   "execution_count": 36,
   "metadata": {},
   "outputs": [
    {
     "output_type": "stream",
     "name": "stdout",
     "text": [
      "[-20.85630034]\n[-20.88279166]\n[-20.90928299]\n[-20.93577431]\n[-20.96226564]\n[-20.98875696]\n[-21.01524829]\n[-21.04173961]\n[-21.06823094]\n[-21.09472226]\n"
     ]
    }
   ],
   "source": [
    "for crime_rate in range(1, 100, 10):\n",
    "    print(model2.predict([[crime_rate / 100, 1]]))"
   ]
  },
  {
   "cell_type": "code",
   "execution_count": 37,
   "metadata": {},
   "outputs": [
    {
     "output_type": "stream",
     "name": "stdout",
     "text": [
      "[-20.88014253]\n[-12.48907428]\n[-4.09800604]\n[4.29306221]\n[12.68413046]\n[21.0751987]\n[29.46626695]\n[37.85733519]\n[46.24840344]\n"
     ]
    }
   ],
   "source": [
    "for rm in range(1, 10):\n",
    "    print(model2.predict([[0.1, rm]]))"
   ]
  },
  {
   "cell_type": "markdown",
   "metadata": {
    "collapsed": true
   },
   "source": [
    "<h1>回帰係数と切片の値を確認</h1>"
   ]
  },
  {
   "cell_type": "code",
   "execution_count": 38,
   "metadata": {},
   "outputs": [
    {
     "output_type": "stream",
     "name": "stdout",
     "text": [
      "推定された回帰係数: 9.102, 推定された切片 : -34.671\n"
     ]
    }
   ],
   "source": [
    "# 単回帰の回帰係数と切片を出力\n",
    "print('推定された回帰係数: %.3f, 推定された切片 : %.3f' % (model.coef_, model.intercept_))"
   ]
  },
  {
   "cell_type": "code",
   "execution_count": 39,
   "metadata": {},
   "outputs": [
    {
     "output_type": "stream",
     "name": "stdout",
     "text": [
      "[9.10210898]\n-34.67062077643857\n"
     ]
    }
   ],
   "source": [
    "# 重回帰の回帰係数と切片を出力\n",
    "print(model.coef_)\n",
    "print(model.intercept_)"
   ]
  },
  {
   "cell_type": "markdown",
   "metadata": {},
   "source": [
    "<h1>モデルの検証</h1>"
   ]
  },
  {
   "cell_type": "markdown",
   "metadata": {},
   "source": [
    "<h3>1. 決定係数</h3>"
   ]
  },
  {
   "source": [
    "# 決定係数\n",
    "print('単回帰決定係数: %.3f, 重回帰決定係数 : %.3f' % (model.score(data,target), model2.score(data2,target2)))"
   ],
   "cell_type": "code",
   "metadata": {},
   "execution_count": 40,
   "outputs": [
    {
     "output_type": "stream",
     "name": "stdout",
     "text": [
      "単回帰決定係数: 0.484, 重回帰決定係数 : 0.542\n"
     ]
    }
   ]
  },
  {
   "cell_type": "code",
   "execution_count": 41,
   "metadata": {},
   "outputs": [],
   "source": [
    "# 70%を学習用、30%を検証用データにするよう分割\n",
    "X_train, X_test, y_train, y_test = train_test_split(data, target, \n",
    "test_size = 0.3, random_state = 666)\n",
    "# 学習用データでパラメータ推定\n",
    "model.fit(X_train, y_train)\n",
    "# 作成したモデルから予測（学習用、検証用モデル使用）\n",
    "y_train_pred = model.predict(X_train)\n",
    "y_test_pred = model.predict(X_test)"
   ]
  },
  {
   "cell_type": "code",
   "execution_count": 42,
   "metadata": {},
   "outputs": [
    {
     "output_type": "display_data",
     "data": {
      "text/plain": "<Figure size 432x288 with 1 Axes>",
      "image/svg+xml": "<?xml version=\"1.0\" encoding=\"utf-8\" standalone=\"no\"?>\n<!DOCTYPE svg PUBLIC \"-//W3C//DTD SVG 1.1//EN\"\n  \"http://www.w3.org/Graphics/SVG/1.1/DTD/svg11.dtd\">\n<!-- Created with matplotlib (https://matplotlib.org/) -->\n<svg height=\"262.19625pt\" version=\"1.1\" viewBox=\"0 0 397.345312 262.19625\" width=\"397.345312pt\" xmlns=\"http://www.w3.org/2000/svg\" xmlns:xlink=\"http://www.w3.org/1999/xlink\">\n <metadata>\n  <rdf:RDF xmlns:cc=\"http://creativecommons.org/ns#\" xmlns:dc=\"http://purl.org/dc/elements/1.1/\" xmlns:rdf=\"http://www.w3.org/1999/02/22-rdf-syntax-ns#\">\n   <cc:Work>\n    <dc:type rdf:resource=\"http://purl.org/dc/dcmitype/StillImage\"/>\n    <dc:date>2020-12-05T14:46:35.642685</dc:date>\n    <dc:format>image/svg+xml</dc:format>\n    <dc:creator>\n     <cc:Agent>\n      <dc:title>Matplotlib v3.3.2, https://matplotlib.org/</dc:title>\n     </cc:Agent>\n    </dc:creator>\n   </cc:Work>\n  </rdf:RDF>\n </metadata>\n <defs>\n  <style type=\"text/css\">*{stroke-linecap:butt;stroke-linejoin:round;}</style>\n </defs>\n <g id=\"figure_1\">\n  <g id=\"patch_1\">\n   <path d=\"M 0 262.19625 \nL 397.345312 262.19625 \nL 397.345312 0 \nL 0 0 \nz\n\" style=\"fill:none;\"/>\n  </g>\n  <g id=\"axes_1\">\n   <g id=\"patch_2\">\n    <path d=\"M 48.982813 224.64 \nL 383.782813 224.64 \nL 383.782813 7.2 \nL 48.982813 7.2 \nz\n\" style=\"fill:#ffffff;\"/>\n   </g>\n   <g id=\"PathCollection_1\">\n    <defs>\n     <path d=\"M 0 3 \nC 0.795609 3 1.55874 2.683901 2.12132 2.12132 \nC 2.683901 1.55874 3 0.795609 3 0 \nC 3 -0.795609 2.683901 -1.55874 2.12132 -2.12132 \nC 1.55874 -2.683901 0.795609 -3 0 -3 \nC -0.795609 -3 -1.55874 -2.683901 -2.12132 -2.12132 \nC -2.683901 -1.55874 -3 -0.795609 -3 0 \nC -3 0.795609 -2.683901 1.55874 -2.12132 2.12132 \nC -1.55874 2.683901 -0.795609 3 0 3 \nz\n\" id=\"m7d0646a66d\" style=\"stroke:#0000ff;\"/>\n    </defs>\n    <g clip-path=\"url(#p060bd336f3)\">\n     <use style=\"fill:#0000ff;stroke:#0000ff;\" x=\"122.688695\" xlink:href=\"#m7d0646a66d\" y=\"101.108501\"/>\n     <use style=\"fill:#0000ff;stroke:#0000ff;\" x=\"130.264289\" xlink:href=\"#m7d0646a66d\" y=\"69.233909\"/>\n     <use style=\"fill:#0000ff;stroke:#0000ff;\" x=\"5.962697\" xlink:href=\"#m7d0646a66d\" y=\"103.437803\"/>\n     <use style=\"fill:#0000ff;stroke:#0000ff;\" x=\"193.497313\" xlink:href=\"#m7d0646a66d\" y=\"47.511518\"/>\n     <use style=\"fill:#0000ff;stroke:#0000ff;\" x=\"130.650799\" xlink:href=\"#m7d0646a66d\" y=\"105.321136\"/>\n     <use style=\"fill:#0000ff;stroke:#0000ff;\" x=\"138.380998\" xlink:href=\"#m7d0646a66d\" y=\"89.005859\"/>\n     <use style=\"fill:#0000ff;stroke:#0000ff;\" x=\"168.760678\" xlink:href=\"#m7d0646a66d\" y=\"77.044507\"/>\n     <use style=\"fill:#0000ff;stroke:#0000ff;\" x=\"186.308228\" xlink:href=\"#m7d0646a66d\" y=\"59.876787\"/>\n     <use style=\"fill:#0000ff;stroke:#0000ff;\" x=\"155.464736\" xlink:href=\"#m7d0646a66d\" y=\"97.623112\"/>\n     <use style=\"fill:#0000ff;stroke:#0000ff;\" x=\"145.724686\" xlink:href=\"#m7d0646a66d\" y=\"90.013524\"/>\n     <use style=\"fill:#0000ff;stroke:#0000ff;\" x=\"78.317355\" xlink:href=\"#m7d0646a66d\" y=\"81.434928\"/>\n     <use style=\"fill:#0000ff;stroke:#0000ff;\" x=\"156.237756\" xlink:href=\"#m7d0646a66d\" y=\"86.090401\"/>\n     <use style=\"fill:#0000ff;stroke:#0000ff;\" x=\"133.742879\" xlink:href=\"#m7d0646a66d\" y=\"88.237927\"/>\n     <use style=\"fill:#0000ff;stroke:#0000ff;\" x=\"210.50375\" xlink:href=\"#m7d0646a66d\" y=\"95.512479\"/>\n     <use style=\"fill:#0000ff;stroke:#0000ff;\" x=\"145.415478\" xlink:href=\"#m7d0646a66d\" y=\"108.55698\"/>\n     <use style=\"fill:#0000ff;stroke:#0000ff;\" x=\"178.96454\" xlink:href=\"#m7d0646a66d\" y=\"84.168675\"/>\n     <use style=\"fill:#0000ff;stroke:#0000ff;\" x=\"159.793647\" xlink:href=\"#m7d0646a66d\" y=\"87.886864\"/>\n     <use style=\"fill:#0000ff;stroke:#0000ff;\" x=\"151.445033\" xlink:href=\"#m7d0646a66d\" y=\"105.994613\"/>\n     <use style=\"fill:#0000ff;stroke:#0000ff;\" x=\"106.068768\" xlink:href=\"#m7d0646a66d\" y=\"95.44157\"/>\n     <use style=\"fill:#0000ff;stroke:#0000ff;\" x=\"161.185083\" xlink:href=\"#m7d0646a66d\" y=\"73.31232\"/>\n     <use style=\"fill:#0000ff;stroke:#0000ff;\" x=\"115.267704\" xlink:href=\"#m7d0646a66d\" y=\"97.00628\"/>\n     <use style=\"fill:#0000ff;stroke:#0000ff;\" x=\"54.817552\" xlink:href=\"#m7d0646a66d\" y=\"80.834057\"/>\n     <use style=\"fill:#0000ff;stroke:#0000ff;\" x=\"177.959614\" xlink:href=\"#m7d0646a66d\" y=\"81.732618\"/>\n     <use style=\"fill:#0000ff;stroke:#0000ff;\" x=\"158.015702\" xlink:href=\"#m7d0646a66d\" y=\"75.744386\"/>\n     <use style=\"fill:#0000ff;stroke:#0000ff;\" x=\"123.152507\" xlink:href=\"#m7d0646a66d\" y=\"90.315856\"/>\n     <use style=\"fill:#0000ff;stroke:#0000ff;\" x=\"118.050576\" xlink:href=\"#m7d0646a66d\" y=\"66.920171\"/>\n     <use style=\"fill:#0000ff;stroke:#0000ff;\" x=\"153.686791\" xlink:href=\"#m7d0646a66d\" y=\"83.294253\"/>\n     <use style=\"fill:#0000ff;stroke:#0000ff;\" x=\"119.287407\" xlink:href=\"#m7d0646a66d\" y=\"95.818603\"/>\n     <use style=\"fill:#0000ff;stroke:#0000ff;\" x=\"154.537112\" xlink:href=\"#m7d0646a66d\" y=\"93.908848\"/>\n     <use style=\"fill:#0000ff;stroke:#0000ff;\" x=\"-1\" xlink:href=\"#m7d0646a66d\" y=\"150.914286\"/>\n     <use style=\"fill:#0000ff;stroke:#0000ff;\" x=\"-1\" xlink:href=\"#m7d0646a66d\" y=\"147.504872\"/>\n     <use style=\"fill:#0000ff;stroke:#0000ff;\" x=\"86.047554\" xlink:href=\"#m7d0646a66d\" y=\"106.348554\"/>\n     <use style=\"fill:#0000ff;stroke:#0000ff;\" x=\"129.491269\" xlink:href=\"#m7d0646a66d\" y=\"107.003194\"/>\n     <use style=\"fill:#0000ff;stroke:#0000ff;\" x=\"152.681865\" xlink:href=\"#m7d0646a66d\" y=\"88.6667\"/>\n     <use style=\"fill:#0000ff;stroke:#0000ff;\" x=\"305.817097\" xlink:href=\"#m7d0646a66d\" y=\"114.916622\"/>\n     <use style=\"fill:#0000ff;stroke:#0000ff;\" x=\"98.493173\" xlink:href=\"#m7d0646a66d\" y=\"77.966416\"/>\n     <use style=\"fill:#0000ff;stroke:#0000ff;\" x=\"312.774276\" xlink:href=\"#m7d0646a66d\" y=\"91.705986\"/>\n     <use style=\"fill:#0000ff;stroke:#0000ff;\" x=\"104.058916\" xlink:href=\"#m7d0646a66d\" y=\"84.010312\"/>\n     <use style=\"fill:#0000ff;stroke:#0000ff;\" x=\"141.550379\" xlink:href=\"#m7d0646a66d\" y=\"92.508255\"/>\n     <use style=\"fill:#0000ff;stroke:#0000ff;\" x=\"98.879683\" xlink:href=\"#m7d0646a66d\" y=\"83.756646\"/>\n     <use style=\"fill:#0000ff;stroke:#0000ff;\" x=\"87.825499\" xlink:href=\"#m7d0646a66d\" y=\"88.506375\"/>\n     <use style=\"fill:#0000ff;stroke:#0000ff;\" x=\"135.288918\" xlink:href=\"#m7d0646a66d\" y=\"91.409079\"/>\n     <use style=\"fill:#0000ff;stroke:#0000ff;\" x=\"151.754241\" xlink:href=\"#m7d0646a66d\" y=\"79.330313\"/>\n     <use style=\"fill:#0000ff;stroke:#0000ff;\" x=\"289.815586\" xlink:href=\"#m7d0646a66d\" y=\"87.467448\"/>\n     <use style=\"fill:#0000ff;stroke:#0000ff;\" x=\"86.66597\" xlink:href=\"#m7d0646a66d\" y=\"119.860749\"/>\n     <use style=\"fill:#0000ff;stroke:#0000ff;\" x=\"120.988051\" xlink:href=\"#m7d0646a66d\" y=\"87.063135\"/>\n     <use style=\"fill:#0000ff;stroke:#0000ff;\" x=\"103.595104\" xlink:href=\"#m7d0646a66d\" y=\"91.054875\"/>\n     <use style=\"fill:#0000ff;stroke:#0000ff;\" x=\"222.021745\" xlink:href=\"#m7d0646a66d\" y=\"94.025413\"/>\n     <use style=\"fill:#0000ff;stroke:#0000ff;\" x=\"109.315451\" xlink:href=\"#m7d0646a66d\" y=\"87.983214\"/>\n     <use style=\"fill:#0000ff;stroke:#0000ff;\" x=\"137.221468\" xlink:href=\"#m7d0646a66d\" y=\"102.869184\"/>\n     <use style=\"fill:#0000ff;stroke:#0000ff;\" x=\"207.488972\" xlink:href=\"#m7d0646a66d\" y=\"109.755779\"/>\n     <use style=\"fill:#0000ff;stroke:#0000ff;\" x=\"119.442011\" xlink:href=\"#m7d0646a66d\" y=\"94.511549\"/>\n     <use style=\"fill:#0000ff;stroke:#0000ff;\" x=\"109.392753\" xlink:href=\"#m7d0646a66d\" y=\"90.765429\"/>\n     <use style=\"fill:#0000ff;stroke:#0000ff;\" x=\"197.980828\" xlink:href=\"#m7d0646a66d\" y=\"90.190725\"/>\n     <use style=\"fill:#0000ff;stroke:#0000ff;\" x=\"341.144104\" xlink:href=\"#m7d0646a66d\" y=\"107.043557\"/>\n     <use style=\"fill:#0000ff;stroke:#0000ff;\" x=\"99.034287\" xlink:href=\"#m7d0646a66d\" y=\"113.371269\"/>\n     <use style=\"fill:#0000ff;stroke:#0000ff;\" x=\"235.163083\" xlink:href=\"#m7d0646a66d\" y=\"102.864476\"/>\n     <use style=\"fill:#0000ff;stroke:#0000ff;\" x=\"271.417714\" xlink:href=\"#m7d0646a66d\" y=\"133.063094\"/>\n     <use style=\"fill:#0000ff;stroke:#0000ff;\" x=\"122.070279\" xlink:href=\"#m7d0646a66d\" y=\"101.339272\"/>\n     <use style=\"fill:#0000ff;stroke:#0000ff;\" x=\"167.137336\" xlink:href=\"#m7d0646a66d\" y=\"84.521767\"/>\n     <use style=\"fill:#0000ff;stroke:#0000ff;\" x=\"167.214638\" xlink:href=\"#m7d0646a66d\" y=\"69.188252\"/>\n     <use style=\"fill:#0000ff;stroke:#0000ff;\" x=\"150.826617\" xlink:href=\"#m7d0646a66d\" y=\"93.731779\"/>\n     <use style=\"fill:#0000ff;stroke:#0000ff;\" x=\"124.002828\" xlink:href=\"#m7d0646a66d\" y=\"89.686204\"/>\n     <use style=\"fill:#0000ff;stroke:#0000ff;\" x=\"176.877386\" xlink:href=\"#m7d0646a66d\" y=\"87.446252\"/>\n     <use style=\"fill:#0000ff;stroke:#0000ff;\" x=\"154.227905\" xlink:href=\"#m7d0646a66d\" y=\"87.46509\"/>\n     <use style=\"fill:#0000ff;stroke:#0000ff;\" x=\"167.755752\" xlink:href=\"#m7d0646a66d\" y=\"45.560814\"/>\n     <use style=\"fill:#0000ff;stroke:#0000ff;\" x=\"144.642458\" xlink:href=\"#m7d0646a66d\" y=\"65.742502\"/>\n     <use style=\"fill:#0000ff;stroke:#0000ff;\" x=\"181.206297\" xlink:href=\"#m7d0646a66d\" y=\"81.770426\"/>\n     <use style=\"fill:#0000ff;stroke:#0000ff;\" x=\"347.019055\" xlink:href=\"#m7d0646a66d\" y=\"17.083636\"/>\n     <use style=\"fill:#0000ff;stroke:#0000ff;\" x=\"115.654214\" xlink:href=\"#m7d0646a66d\" y=\"95.612687\"/>\n     <use style=\"fill:#0000ff;stroke:#0000ff;\" x=\"164.663673\" xlink:href=\"#m7d0646a66d\" y=\"84.195494\"/>\n     <use style=\"fill:#0000ff;stroke:#0000ff;\" x=\"122.611393\" xlink:href=\"#m7d0646a66d\" y=\"106.75947\"/>\n     <use style=\"fill:#0000ff;stroke:#0000ff;\" x=\"123.539016\" xlink:href=\"#m7d0646a66d\" y=\"99.854169\"/>\n     <use style=\"fill:#0000ff;stroke:#0000ff;\" x=\"96.251416\" xlink:href=\"#m7d0646a66d\" y=\"77.553603\"/>\n     <use style=\"fill:#0000ff;stroke:#0000ff;\" x=\"192.569689\" xlink:href=\"#m7d0646a66d\" y=\"29.741946\"/>\n     <use style=\"fill:#0000ff;stroke:#0000ff;\" x=\"173.708005\" xlink:href=\"#m7d0646a66d\" y=\"89.565979\"/>\n     <use style=\"fill:#0000ff;stroke:#0000ff;\" x=\"161.107781\" xlink:href=\"#m7d0646a66d\" y=\"105.824544\"/>\n     <use style=\"fill:#0000ff;stroke:#0000ff;\" x=\"133.201765\" xlink:href=\"#m7d0646a66d\" y=\"83.13007\"/>\n     <use style=\"fill:#0000ff;stroke:#0000ff;\" x=\"125.935378\" xlink:href=\"#m7d0646a66d\" y=\"95.836526\"/>\n     <use style=\"fill:#0000ff;stroke:#0000ff;\" x=\"268.55754\" xlink:href=\"#m7d0646a66d\" y=\"102.271717\"/>\n     <use style=\"fill:#0000ff;stroke:#0000ff;\" x=\"103.285896\" xlink:href=\"#m7d0646a66d\" y=\"79.613675\"/>\n     <use style=\"fill:#0000ff;stroke:#0000ff;\" x=\"165.668598\" xlink:href=\"#m7d0646a66d\" y=\"38.843505\"/>\n     <use style=\"fill:#0000ff;stroke:#0000ff;\" x=\"52.498492\" xlink:href=\"#m7d0646a66d\" y=\"214.756364\"/>\n     <use style=\"fill:#0000ff;stroke:#0000ff;\" x=\"190.018724\" xlink:href=\"#m7d0646a66d\" y=\"49.12195\"/>\n     <use style=\"fill:#0000ff;stroke:#0000ff;\" x=\"307.285835\" xlink:href=\"#m7d0646a66d\" y=\"103.436633\"/>\n     <use style=\"fill:#0000ff;stroke:#0000ff;\" x=\"55.745176\" xlink:href=\"#m7d0646a66d\" y=\"105.162773\"/>\n     <use style=\"fill:#0000ff;stroke:#0000ff;\" x=\"162.653821\" xlink:href=\"#m7d0646a66d\" y=\"85.257843\"/>\n     <use style=\"fill:#0000ff;stroke:#0000ff;\" x=\"139.540527\" xlink:href=\"#m7d0646a66d\" y=\"82.951039\"/>\n     <use style=\"fill:#0000ff;stroke:#0000ff;\" x=\"188.395382\" xlink:href=\"#m7d0646a66d\" y=\"54.412829\"/>\n     <use style=\"fill:#0000ff;stroke:#0000ff;\" x=\"230.602266\" xlink:href=\"#m7d0646a66d\" y=\"100.193657\"/>\n     <use style=\"fill:#0000ff;stroke:#0000ff;\" x=\"133.047161\" xlink:href=\"#m7d0646a66d\" y=\"100.054132\"/>\n     <use style=\"fill:#0000ff;stroke:#0000ff;\" x=\"164.199861\" xlink:href=\"#m7d0646a66d\" y=\"94.988139\"/>\n     <use style=\"fill:#0000ff;stroke:#0000ff;\" x=\"145.028968\" xlink:href=\"#m7d0646a66d\" y=\"86.837401\"/>\n     <use style=\"fill:#0000ff;stroke:#0000ff;\" x=\"211.27677\" xlink:href=\"#m7d0646a66d\" y=\"108.342301\"/>\n     <use style=\"fill:#0000ff;stroke:#0000ff;\" x=\"262.837194\" xlink:href=\"#m7d0646a66d\" y=\"90.03871\"/>\n     <use style=\"fill:#0000ff;stroke:#0000ff;\" x=\"141.473077\" xlink:href=\"#m7d0646a66d\" y=\"94.723483\"/>\n     <use style=\"fill:#0000ff;stroke:#0000ff;\" x=\"149.821691\" xlink:href=\"#m7d0646a66d\" y=\"82.862537\"/>\n     <use style=\"fill:#0000ff;stroke:#0000ff;\" x=\"140.468151\" xlink:href=\"#m7d0646a66d\" y=\"94.161467\"/>\n     <use style=\"fill:#0000ff;stroke:#0000ff;\" x=\"128.795551\" xlink:href=\"#m7d0646a66d\" y=\"57.600725\"/>\n     <use style=\"fill:#0000ff;stroke:#0000ff;\" x=\"161.494291\" xlink:href=\"#m7d0646a66d\" y=\"58.829286\"/>\n     <use style=\"fill:#0000ff;stroke:#0000ff;\" x=\"215.528379\" xlink:href=\"#m7d0646a66d\" y=\"87.390653\"/>\n     <use style=\"fill:#0000ff;stroke:#0000ff;\" x=\"244.516623\" xlink:href=\"#m7d0646a66d\" y=\"124.361264\"/>\n     <use style=\"fill:#0000ff;stroke:#0000ff;\" x=\"165.591296\" xlink:href=\"#m7d0646a66d\" y=\"92.907201\"/>\n     <use style=\"fill:#0000ff;stroke:#0000ff;\" x=\"130.805403\" xlink:href=\"#m7d0646a66d\" y=\"92.145155\"/>\n     <use style=\"fill:#0000ff;stroke:#0000ff;\" x=\"-1\" xlink:href=\"#m7d0646a66d\" y=\"117.661051\"/>\n     <use style=\"fill:#0000ff;stroke:#0000ff;\" x=\"-1\" xlink:href=\"#m7d0646a66d\" y=\"118.378917\"/>\n     <use style=\"fill:#0000ff;stroke:#0000ff;\" x=\"237.095633\" xlink:href=\"#m7d0646a66d\" y=\"88.088006\"/>\n     <use style=\"fill:#0000ff;stroke:#0000ff;\" x=\"113.721664\" xlink:href=\"#m7d0646a66d\" y=\"103.830013\"/>\n     <use style=\"fill:#0000ff;stroke:#0000ff;\" x=\"309.682197\" xlink:href=\"#m7d0646a66d\" y=\"118.78408\"/>\n     <use style=\"fill:#0000ff;stroke:#0000ff;\" x=\"138.535602\" xlink:href=\"#m7d0646a66d\" y=\"95.81965\"/>\n     <use style=\"fill:#0000ff;stroke:#0000ff;\" x=\"150.672013\" xlink:href=\"#m7d0646a66d\" y=\"100.660955\"/>\n     <use style=\"fill:#0000ff;stroke:#0000ff;\" x=\"150.053597\" xlink:href=\"#m7d0646a66d\" y=\"88.39812\"/>\n     <use style=\"fill:#0000ff;stroke:#0000ff;\" x=\"277.060759\" xlink:href=\"#m7d0646a66d\" y=\"130.9573\"/>\n     <use style=\"fill:#0000ff;stroke:#0000ff;\" x=\"147.03882\" xlink:href=\"#m7d0646a66d\" y=\"57.664437\"/>\n     <use style=\"fill:#0000ff;stroke:#0000ff;\" x=\"157.861098\" xlink:href=\"#m7d0646a66d\" y=\"89.857387\"/>\n     <use style=\"fill:#0000ff;stroke:#0000ff;\" x=\"273.659471\" xlink:href=\"#m7d0646a66d\" y=\"132.226546\"/>\n     <use style=\"fill:#0000ff;stroke:#0000ff;\" x=\"180.742485\" xlink:href=\"#m7d0646a66d\" y=\"52.583529\"/>\n     <use style=\"fill:#0000ff;stroke:#0000ff;\" x=\"101.817159\" xlink:href=\"#m7d0646a66d\" y=\"127.325124\"/>\n     <use style=\"fill:#0000ff;stroke:#0000ff;\" x=\"199.681472\" xlink:href=\"#m7d0646a66d\" y=\"101.112689\"/>\n     <use style=\"fill:#0000ff;stroke:#0000ff;\" x=\"165.050182\" xlink:href=\"#m7d0646a66d\" y=\"90.922745\"/>\n     <use style=\"fill:#0000ff;stroke:#0000ff;\" x=\"272.80915\" xlink:href=\"#m7d0646a66d\" y=\"113.178767\"/>\n     <use style=\"fill:#0000ff;stroke:#0000ff;\" x=\"207.875482\" xlink:href=\"#m7d0646a66d\" y=\"93.682198\"/>\n     <use style=\"fill:#0000ff;stroke:#0000ff;\" x=\"196.51209\" xlink:href=\"#m7d0646a66d\" y=\"48.885226\"/>\n     <use style=\"fill:#0000ff;stroke:#0000ff;\" x=\"223.722389\" xlink:href=\"#m7d0646a66d\" y=\"103.698015\"/>\n     <use style=\"fill:#0000ff;stroke:#0000ff;\" x=\"145.570082\" xlink:href=\"#m7d0646a66d\" y=\"67.582725\"/>\n     <use style=\"fill:#0000ff;stroke:#0000ff;\" x=\"169.379094\" xlink:href=\"#m7d0646a66d\" y=\"105.86137\"/>\n     <use style=\"fill:#0000ff;stroke:#0000ff;\" x=\"156.624266\" xlink:href=\"#m7d0646a66d\" y=\"80.636386\"/>\n     <use style=\"fill:#0000ff;stroke:#0000ff;\" x=\"129.104759\" xlink:href=\"#m7d0646a66d\" y=\"97.777221\"/>\n     <use style=\"fill:#0000ff;stroke:#0000ff;\" x=\"165.823202\" xlink:href=\"#m7d0646a66d\" y=\"60.961964\"/>\n     <use style=\"fill:#0000ff;stroke:#0000ff;\" x=\"147.193424\" xlink:href=\"#m7d0646a66d\" y=\"91.027142\"/>\n     <use style=\"fill:#0000ff;stroke:#0000ff;\" x=\"205.633725\" xlink:href=\"#m7d0646a66d\" y=\"84.836201\"/>\n     <use style=\"fill:#0000ff;stroke:#0000ff;\" x=\"84.965326\" xlink:href=\"#m7d0646a66d\" y=\"108.001765\"/>\n     <use style=\"fill:#0000ff;stroke:#0000ff;\" x=\"143.328325\" xlink:href=\"#m7d0646a66d\" y=\"97.466909\"/>\n     <use style=\"fill:#0000ff;stroke:#0000ff;\" x=\"66.799359\" xlink:href=\"#m7d0646a66d\" y=\"104.161126\"/>\n     <use style=\"fill:#0000ff;stroke:#0000ff;\" x=\"119.519313\" xlink:href=\"#m7d0646a66d\" y=\"65.435067\"/>\n     <use style=\"fill:#0000ff;stroke:#0000ff;\" x=\"195.816373\" xlink:href=\"#m7d0646a66d\" y=\"31.341455\"/>\n     <use style=\"fill:#0000ff;stroke:#0000ff;\" x=\"157.319984\" xlink:href=\"#m7d0646a66d\" y=\"80.689107\"/>\n     <use style=\"fill:#0000ff;stroke:#0000ff;\" x=\"175.099441\" xlink:href=\"#m7d0646a66d\" y=\"105.913111\"/>\n     <use style=\"fill:#0000ff;stroke:#0000ff;\" x=\"165.900504\" xlink:href=\"#m7d0646a66d\" y=\"88.731393\"/>\n     <use style=\"fill:#0000ff;stroke:#0000ff;\" x=\"210.658354\" xlink:href=\"#m7d0646a66d\" y=\"155.736438\"/>\n     <use style=\"fill:#0000ff;stroke:#0000ff;\" x=\"179.73756\" xlink:href=\"#m7d0646a66d\" y=\"99.809559\"/>\n     <use style=\"fill:#0000ff;stroke:#0000ff;\" x=\"164.277163\" xlink:href=\"#m7d0646a66d\" y=\"90.58653\"/>\n     <use style=\"fill:#0000ff;stroke:#0000ff;\" x=\"156.469662\" xlink:href=\"#m7d0646a66d\" y=\"96.623427\"/>\n     <use style=\"fill:#0000ff;stroke:#0000ff;\" x=\"82.80087\" xlink:href=\"#m7d0646a66d\" y=\"112.245209\"/>\n     <use style=\"fill:#0000ff;stroke:#0000ff;\" x=\"315.711751\" xlink:href=\"#m7d0646a66d\" y=\"116.534053\"/>\n     <use style=\"fill:#0000ff;stroke:#0000ff;\" x=\"81.409435\" xlink:href=\"#m7d0646a66d\" y=\"110.265725\"/>\n     <use style=\"fill:#0000ff;stroke:#0000ff;\" x=\"112.562135\" xlink:href=\"#m7d0646a66d\" y=\"62.721468\"/>\n     <use style=\"fill:#0000ff;stroke:#0000ff;\" x=\"156.237756\" xlink:href=\"#m7d0646a66d\" y=\"91.712524\"/>\n     <use style=\"fill:#0000ff;stroke:#0000ff;\" x=\"103.363198\" xlink:href=\"#m7d0646a66d\" y=\"88.330353\"/>\n     <use style=\"fill:#0000ff;stroke:#0000ff;\" x=\"89.835351\" xlink:href=\"#m7d0646a66d\" y=\"60.270432\"/>\n     <use style=\"fill:#0000ff;stroke:#0000ff;\" x=\"100.734931\" xlink:href=\"#m7d0646a66d\" y=\"94.933257\"/>\n     <use style=\"fill:#0000ff;stroke:#0000ff;\" x=\"127.17221\" xlink:href=\"#m7d0646a66d\" y=\"95.062642\"/>\n     <use style=\"fill:#0000ff;stroke:#0000ff;\" x=\"129.955081\" xlink:href=\"#m7d0646a66d\" y=\"93.087147\"/>\n     <use style=\"fill:#0000ff;stroke:#0000ff;\" x=\"123.461714\" xlink:href=\"#m7d0646a66d\" y=\"104.880458\"/>\n     <use style=\"fill:#0000ff;stroke:#0000ff;\" x=\"144.642458\" xlink:href=\"#m7d0646a66d\" y=\"99.47524\"/>\n     <use style=\"fill:#0000ff;stroke:#0000ff;\" x=\"160.875875\" xlink:href=\"#m7d0646a66d\" y=\"89.981734\"/>\n     <use style=\"fill:#0000ff;stroke:#0000ff;\" x=\"165.35939\" xlink:href=\"#m7d0646a66d\" y=\"106.112027\"/>\n     <use style=\"fill:#0000ff;stroke:#0000ff;\" x=\"109.624659\" xlink:href=\"#m7d0646a66d\" y=\"97.862714\"/>\n     <use style=\"fill:#0000ff;stroke:#0000ff;\" x=\"193.961125\" xlink:href=\"#m7d0646a66d\" y=\"102.934989\"/>\n     <use style=\"fill:#0000ff;stroke:#0000ff;\" x=\"174.558327\" xlink:href=\"#m7d0646a66d\" y=\"97.681852\"/>\n     <use style=\"fill:#0000ff;stroke:#0000ff;\" x=\"111.325303\" xlink:href=\"#m7d0646a66d\" y=\"96.915751\"/>\n     <use style=\"fill:#0000ff;stroke:#0000ff;\" x=\"153.222979\" xlink:href=\"#m7d0646a66d\" y=\"96.273279\"/>\n     <use style=\"fill:#0000ff;stroke:#0000ff;\" x=\"143.096419\" xlink:href=\"#m7d0646a66d\" y=\"72.253895\"/>\n     <use style=\"fill:#0000ff;stroke:#0000ff;\" x=\"111.016095\" xlink:href=\"#m7d0646a66d\" y=\"93.595395\"/>\n     <use style=\"fill:#0000ff;stroke:#0000ff;\" x=\"184.916793\" xlink:href=\"#m7d0646a66d\" y=\"165.34232\"/>\n     <use style=\"fill:#0000ff;stroke:#0000ff;\" x=\"126.553794\" xlink:href=\"#m7d0646a66d\" y=\"88.10959\"/>\n     <use style=\"fill:#0000ff;stroke:#0000ff;\" x=\"123.384413\" xlink:href=\"#m7d0646a66d\" y=\"71.801246\"/>\n     <use style=\"fill:#0000ff;stroke:#0000ff;\" x=\"199.449566\" xlink:href=\"#m7d0646a66d\" y=\"81.209457\"/>\n     <use style=\"fill:#0000ff;stroke:#0000ff;\" x=\"137.68528\" xlink:href=\"#m7d0646a66d\" y=\"72.086768\"/>\n     <use style=\"fill:#0000ff;stroke:#0000ff;\" x=\"98.106663\" xlink:href=\"#m7d0646a66d\" y=\"112.780407\"/>\n     <use style=\"fill:#0000ff;stroke:#0000ff;\" x=\"188.240778\" xlink:href=\"#m7d0646a66d\" y=\"98.510486\"/>\n     <use style=\"fill:#0000ff;stroke:#0000ff;\" x=\"212.590903\" xlink:href=\"#m7d0646a66d\" y=\"89.42384\"/>\n     <use style=\"fill:#0000ff;stroke:#0000ff;\" x=\"120.601541\" xlink:href=\"#m7d0646a66d\" y=\"94.078852\"/>\n     <use style=\"fill:#0000ff;stroke:#0000ff;\" x=\"182.752337\" xlink:href=\"#m7d0646a66d\" y=\"57.455644\"/>\n     <use style=\"fill:#0000ff;stroke:#0000ff;\" x=\"129.645873\" xlink:href=\"#m7d0646a66d\" y=\"88.205091\"/>\n     <use style=\"fill:#0000ff;stroke:#0000ff;\" x=\"140.081641\" xlink:href=\"#m7d0646a66d\" y=\"67.756785\"/>\n     <use style=\"fill:#0000ff;stroke:#0000ff;\" x=\"175.640554\" xlink:href=\"#m7d0646a66d\" y=\"114.14437\"/>\n     <use style=\"fill:#0000ff;stroke:#0000ff;\" x=\"109.547357\" xlink:href=\"#m7d0646a66d\" y=\"95.080499\"/>\n     <use style=\"fill:#0000ff;stroke:#0000ff;\" x=\"178.809936\" xlink:href=\"#m7d0646a66d\" y=\"102.342098\"/>\n     <use style=\"fill:#0000ff;stroke:#0000ff;\" x=\"163.194935\" xlink:href=\"#m7d0646a66d\" y=\"86.929958\"/>\n     <use style=\"fill:#0000ff;stroke:#0000ff;\" x=\"122.379487\" xlink:href=\"#m7d0646a66d\" y=\"95.914104\"/>\n     <use style=\"fill:#0000ff;stroke:#0000ff;\" x=\"275.360115\" xlink:href=\"#m7d0646a66d\" y=\"126.906821\"/>\n     <use style=\"fill:#0000ff;stroke:#0000ff;\" x=\"51.957378\" xlink:href=\"#m7d0646a66d\" y=\"127.190702\"/>\n     <use style=\"fill:#0000ff;stroke:#0000ff;\" x=\"164.354465\" xlink:href=\"#m7d0646a66d\" y=\"87.434282\"/>\n     <use style=\"fill:#0000ff;stroke:#0000ff;\" x=\"137.066864\" xlink:href=\"#m7d0646a66d\" y=\"103.239217\"/>\n     <use style=\"fill:#0000ff;stroke:#0000ff;\" x=\"137.144166\" xlink:href=\"#m7d0646a66d\" y=\"98.212928\"/>\n     <use style=\"fill:#0000ff;stroke:#0000ff;\" x=\"134.438596\" xlink:href=\"#m7d0646a66d\" y=\"79.857464\"/>\n     <use style=\"fill:#0000ff;stroke:#0000ff;\" x=\"187.622362\" xlink:href=\"#m7d0646a66d\" y=\"89.995733\"/>\n     <use style=\"fill:#0000ff;stroke:#0000ff;\" x=\"109.933867\" xlink:href=\"#m7d0646a66d\" y=\"76.820536\"/>\n     <use style=\"fill:#0000ff;stroke:#0000ff;\" x=\"131.037309\" xlink:href=\"#m7d0646a66d\" y=\"96.119038\"/>\n     <use style=\"fill:#0000ff;stroke:#0000ff;\" x=\"148.19835\" xlink:href=\"#m7d0646a66d\" y=\"59.41812\"/>\n     <use style=\"fill:#0000ff;stroke:#0000ff;\" x=\"227.66479\" xlink:href=\"#m7d0646a66d\" y=\"105.974926\"/>\n     <use style=\"fill:#0000ff;stroke:#0000ff;\" x=\"149.357879\" xlink:href=\"#m7d0646a66d\" y=\"54.30032\"/>\n     <use style=\"fill:#0000ff;stroke:#0000ff;\" x=\"121.065353\" xlink:href=\"#m7d0646a66d\" y=\"74.540682\"/>\n     <use style=\"fill:#0000ff;stroke:#0000ff;\" x=\"170.384019\" xlink:href=\"#m7d0646a66d\" y=\"72.065968\"/>\n     <use style=\"fill:#0000ff;stroke:#0000ff;\" x=\"133.588275\" xlink:href=\"#m7d0646a66d\" y=\"94.542424\"/>\n     <use style=\"fill:#0000ff;stroke:#0000ff;\" x=\"139.463225\" xlink:href=\"#m7d0646a66d\" y=\"88.914348\"/>\n     <use style=\"fill:#0000ff;stroke:#0000ff;\" x=\"109.933867\" xlink:href=\"#m7d0646a66d\" y=\"84.3167\"/>\n     <use style=\"fill:#0000ff;stroke:#0000ff;\" x=\"205.015309\" xlink:href=\"#m7d0646a66d\" y=\"130.668637\"/>\n     <use style=\"fill:#0000ff;stroke:#0000ff;\" x=\"143.869439\" xlink:href=\"#m7d0646a66d\" y=\"51.663319\"/>\n     <use style=\"fill:#0000ff;stroke:#0000ff;\" x=\"163.349539\" xlink:href=\"#m7d0646a66d\" y=\"55.013568\"/>\n     <use style=\"fill:#0000ff;stroke:#0000ff;\" x=\"206.947858\" xlink:href=\"#m7d0646a66d\" y=\"33.434363\"/>\n     <use style=\"fill:#0000ff;stroke:#0000ff;\" x=\"178.114218\" xlink:href=\"#m7d0646a66d\" y=\"107.9115\"/>\n     <use style=\"fill:#0000ff;stroke:#0000ff;\" x=\"147.03882\" xlink:href=\"#m7d0646a66d\" y=\"66.409961\"/>\n     <use style=\"fill:#0000ff;stroke:#0000ff;\" x=\"141.936889\" xlink:href=\"#m7d0646a66d\" y=\"96.112105\"/>\n     <use style=\"fill:#0000ff;stroke:#0000ff;\" x=\"-1\" xlink:href=\"#m7d0646a66d\" y=\"123.608699\"/>\n     <use style=\"fill:#0000ff;stroke:#0000ff;\" x=\"-1\" xlink:href=\"#m7d0646a66d\" y=\"122.347158\"/>\n     <use style=\"fill:#0000ff;stroke:#0000ff;\" x=\"134.20669\" xlink:href=\"#m7d0646a66d\" y=\"80.568684\"/>\n     <use style=\"fill:#0000ff;stroke:#0000ff;\" x=\"214.136943\" xlink:href=\"#m7d0646a66d\" y=\"76.353304\"/>\n     <use style=\"fill:#0000ff;stroke:#0000ff;\" x=\"151.058523\" xlink:href=\"#m7d0646a66d\" y=\"94.8946\"/>\n     <use style=\"fill:#0000ff;stroke:#0000ff;\" x=\"188.395382\" xlink:href=\"#m7d0646a66d\" y=\"101.888535\"/>\n     <use style=\"fill:#0000ff;stroke:#0000ff;\" x=\"225.345731\" xlink:href=\"#m7d0646a66d\" y=\"108.089682\"/>\n     <use style=\"fill:#0000ff;stroke:#0000ff;\" x=\"167.523846\" xlink:href=\"#m7d0646a66d\" y=\"75.63201\"/>\n     <use style=\"fill:#0000ff;stroke:#0000ff;\" x=\"151.522335\" xlink:href=\"#m7d0646a66d\" y=\"83.789615\"/>\n     <use style=\"fill:#0000ff;stroke:#0000ff;\" x=\"127.636022\" xlink:href=\"#m7d0646a66d\" y=\"84.894677\"/>\n     <use style=\"fill:#0000ff;stroke:#0000ff;\" x=\"149.589785\" xlink:href=\"#m7d0646a66d\" y=\"86.384818\"/>\n     <use style=\"fill:#0000ff;stroke:#0000ff;\" x=\"317.489697\" xlink:href=\"#m7d0646a66d\" y=\"112.122502\"/>\n     <use style=\"fill:#0000ff;stroke:#0000ff;\" x=\"119.828521\" xlink:href=\"#m7d0646a66d\" y=\"95.929017\"/>\n     <use style=\"fill:#0000ff;stroke:#0000ff;\" x=\"135.75273\" xlink:href=\"#m7d0646a66d\" y=\"73.744951\"/>\n     <use style=\"fill:#0000ff;stroke:#0000ff;\" x=\"128.254438\" xlink:href=\"#m7d0646a66d\" y=\"71.545618\"/>\n     <use style=\"fill:#0000ff;stroke:#0000ff;\" x=\"47.319259\" xlink:href=\"#m7d0646a66d\" y=\"97.375134\"/>\n     <use style=\"fill:#0000ff;stroke:#0000ff;\" x=\"225.113825\" xlink:href=\"#m7d0646a66d\" y=\"99.743037\"/>\n     <use style=\"fill:#0000ff;stroke:#0000ff;\" x=\"162.190009\" xlink:href=\"#m7d0646a66d\" y=\"92.302406\"/>\n     <use style=\"fill:#0000ff;stroke:#0000ff;\" x=\"161.262385\" xlink:href=\"#m7d0646a66d\" y=\"64.850289\"/>\n     <use style=\"fill:#0000ff;stroke:#0000ff;\" x=\"139.231319\" xlink:href=\"#m7d0646a66d\" y=\"84.628125\"/>\n     <use style=\"fill:#0000ff;stroke:#0000ff;\" x=\"182.906941\" xlink:href=\"#m7d0646a66d\" y=\"63.644754\"/>\n     <use style=\"fill:#0000ff;stroke:#0000ff;\" x=\"116.891046\" xlink:href=\"#m7d0646a66d\" y=\"87.030299\"/>\n     <use style=\"fill:#0000ff;stroke:#0000ff;\" x=\"121.915675\" xlink:href=\"#m7d0646a66d\" y=\"92.963781\"/>\n     <use style=\"fill:#0000ff;stroke:#0000ff;\" x=\"217.692834\" xlink:href=\"#m7d0646a66d\" y=\"91.580394\"/>\n     <use style=\"fill:#0000ff;stroke:#0000ff;\" x=\"62.006636\" xlink:href=\"#m7d0646a66d\" y=\"80.337714\"/>\n     <use style=\"fill:#0000ff;stroke:#0000ff;\" x=\"207.566274\" xlink:href=\"#m7d0646a66d\" y=\"75.369514\"/>\n     <use style=\"fill:#0000ff;stroke:#0000ff;\" x=\"136.680354\" xlink:href=\"#m7d0646a66d\" y=\"91.514523\"/>\n     <use style=\"fill:#0000ff;stroke:#0000ff;\" x=\"144.797062\" xlink:href=\"#m7d0646a66d\" y=\"91.921383\"/>\n     <use style=\"fill:#0000ff;stroke:#0000ff;\" x=\"120.524239\" xlink:href=\"#m7d0646a66d\" y=\"98.792801\"/>\n     <use style=\"fill:#0000ff;stroke:#0000ff;\" x=\"122.147581\" xlink:href=\"#m7d0646a66d\" y=\"96.937664\"/>\n     <use style=\"fill:#0000ff;stroke:#0000ff;\" x=\"175.795158\" xlink:href=\"#m7d0646a66d\" y=\"90.036484\"/>\n     <use style=\"fill:#0000ff;stroke:#0000ff;\" x=\"158.788722\" xlink:href=\"#m7d0646a66d\" y=\"89.198889\"/>\n     <use style=\"fill:#0000ff;stroke:#0000ff;\" x=\"163.504143\" xlink:href=\"#m7d0646a66d\" y=\"70.572884\"/>\n     <use style=\"fill:#0000ff;stroke:#0000ff;\" x=\"122.456789\" xlink:href=\"#m7d0646a66d\" y=\"188.650287\"/>\n     <use style=\"fill:#0000ff;stroke:#0000ff;\" x=\"256.575733\" xlink:href=\"#m7d0646a66d\" y=\"114.551428\"/>\n     <use style=\"fill:#0000ff;stroke:#0000ff;\" x=\"95.864906\" xlink:href=\"#m7d0646a66d\" y=\"68.952311\"/>\n     <use style=\"fill:#0000ff;stroke:#0000ff;\" x=\"140.777359\" xlink:href=\"#m7d0646a66d\" y=\"96.232462\"/>\n     <use style=\"fill:#0000ff;stroke:#0000ff;\" x=\"142.168795\" xlink:href=\"#m7d0646a66d\" y=\"68.22729\"/>\n     <use style=\"fill:#0000ff;stroke:#0000ff;\" x=\"128.177136\" xlink:href=\"#m7d0646a66d\" y=\"94.062957\"/>\n     <use style=\"fill:#0000ff;stroke:#0000ff;\" x=\"156.083152\" xlink:href=\"#m7d0646a66d\" y=\"84.586393\"/>\n     <use style=\"fill:#0000ff;stroke:#0000ff;\" x=\"148.275652\" xlink:href=\"#m7d0646a66d\" y=\"89.68627\"/>\n     <use style=\"fill:#0000ff;stroke:#0000ff;\" x=\"117.664066\" xlink:href=\"#m7d0646a66d\" y=\"86.117153\"/>\n     <use style=\"fill:#0000ff;stroke:#0000ff;\" x=\"172.007361\" xlink:href=\"#m7d0646a66d\" y=\"86.14018\"/>\n     <use style=\"fill:#0000ff;stroke:#0000ff;\" x=\"189.245704\" xlink:href=\"#m7d0646a66d\" y=\"102.820584\"/>\n     <use style=\"fill:#0000ff;stroke:#0000ff;\" x=\"113.335154\" xlink:href=\"#m7d0646a66d\" y=\"82.735114\"/>\n     <use style=\"fill:#0000ff;stroke:#0000ff;\" x=\"171.620851\" xlink:href=\"#m7d0646a66d\" y=\"92.218875\"/>\n     <use style=\"fill:#0000ff;stroke:#0000ff;\" x=\"169.533698\" xlink:href=\"#m7d0646a66d\" y=\"67.073497\"/>\n     <use style=\"fill:#0000ff;stroke:#0000ff;\" x=\"102.512877\" xlink:href=\"#m7d0646a66d\" y=\"93.645107\"/>\n     <use style=\"fill:#0000ff;stroke:#0000ff;\" x=\"190.714441\" xlink:href=\"#m7d0646a66d\" y=\"108.206964\"/>\n     <use style=\"fill:#0000ff;stroke:#0000ff;\" x=\"101.585253\" xlink:href=\"#m7d0646a66d\" y=\"98.051687\"/>\n     <use style=\"fill:#0000ff;stroke:#0000ff;\" x=\"175.949762\" xlink:href=\"#m7d0646a66d\" y=\"86.85539\"/>\n     <use style=\"fill:#0000ff;stroke:#0000ff;\" x=\"125.471566\" xlink:href=\"#m7d0646a66d\" y=\"86.95174\"/>\n     <use style=\"fill:#0000ff;stroke:#0000ff;\" x=\"163.426841\" xlink:href=\"#m7d0646a66d\" y=\"56.234082\"/>\n     <use style=\"fill:#0000ff;stroke:#0000ff;\" x=\"45.541314\" xlink:href=\"#m7d0646a66d\" y=\"93.041161\"/>\n     <use style=\"fill:#0000ff;stroke:#0000ff;\" x=\"146.420404\" xlink:href=\"#m7d0646a66d\" y=\"69.139455\"/>\n     <use style=\"fill:#0000ff;stroke:#0000ff;\" x=\"181.747411\" xlink:href=\"#m7d0646a66d\" y=\"99.996571\"/>\n     <use style=\"fill:#0000ff;stroke:#0000ff;\" x=\"206.947858\" xlink:href=\"#m7d0646a66d\" y=\"111.519405\"/>\n     <use style=\"fill:#0000ff;stroke:#0000ff;\" x=\"118.359783\" xlink:href=\"#m7d0646a66d\" y=\"91.479658\"/>\n     <use style=\"fill:#0000ff;stroke:#0000ff;\" x=\"145.028968\" xlink:href=\"#m7d0646a66d\" y=\"95.582925\"/>\n     <use style=\"fill:#0000ff;stroke:#0000ff;\" x=\"241.579148\" xlink:href=\"#m7d0646a66d\" y=\"91.724692\"/>\n     <use style=\"fill:#0000ff;stroke:#0000ff;\" x=\"204.706101\" xlink:href=\"#m7d0646a66d\" y=\"84.870019\"/>\n     <use style=\"fill:#0000ff;stroke:#0000ff;\" x=\"195.970976\" xlink:href=\"#m7d0646a66d\" y=\"108.431783\"/>\n     <use style=\"fill:#0000ff;stroke:#0000ff;\" x=\"122.534091\" xlink:href=\"#m7d0646a66d\" y=\"97.730452\"/>\n     <use style=\"fill:#0000ff;stroke:#0000ff;\" x=\"113.489758\" xlink:href=\"#m7d0646a66d\" y=\"97.98209\"/>\n     <use style=\"fill:#0000ff;stroke:#0000ff;\" x=\"156.77887\" xlink:href=\"#m7d0646a66d\" y=\"94.00932\"/>\n     <use style=\"fill:#0000ff;stroke:#0000ff;\" x=\"49.097205\" xlink:href=\"#m7d0646a66d\" y=\"105.45719\"/>\n     <use style=\"fill:#0000ff;stroke:#0000ff;\" x=\"117.200254\" xlink:href=\"#m7d0646a66d\" y=\"104.405962\"/>\n     <use style=\"fill:#0000ff;stroke:#0000ff;\" x=\"95.014584\" xlink:href=\"#m7d0646a66d\" y=\"81.138549\"/>\n     <use style=\"fill:#0000ff;stroke:#0000ff;\" x=\"52.730398\" xlink:href=\"#m7d0646a66d\" y=\"108.786507\"/>\n     <use style=\"fill:#0000ff;stroke:#0000ff;\" x=\"168.528772\" xlink:href=\"#m7d0646a66d\" y=\"56.204255\"/>\n     <use style=\"fill:#0000ff;stroke:#0000ff;\" x=\"141.936889\" xlink:href=\"#m7d0646a66d\" y=\"88.928281\"/>\n     <use style=\"fill:#0000ff;stroke:#0000ff;\" x=\"86.047554\" xlink:href=\"#m7d0646a66d\" y=\"107.285574\"/>\n     <use style=\"fill:#0000ff;stroke:#0000ff;\" x=\"124.775848\" xlink:href=\"#m7d0646a66d\" y=\"95.956883\"/>\n     <use style=\"fill:#0000ff;stroke:#0000ff;\" x=\"209.962636\" xlink:href=\"#m7d0646a66d\" y=\"73.538252\"/>\n     <use style=\"fill:#0000ff;stroke:#0000ff;\" x=\"188.31808\" xlink:href=\"#m7d0646a66d\" y=\"93.796537\"/>\n     <use style=\"fill:#0000ff;stroke:#0000ff;\" x=\"158.479514\" xlink:href=\"#m7d0646a66d\" y=\"65.576422\"/>\n     <use style=\"fill:#0000ff;stroke:#0000ff;\" x=\"107.537506\" xlink:href=\"#m7d0646a66d\" y=\"98.329229\"/>\n     <use style=\"fill:#0000ff;stroke:#0000ff;\" x=\"142.941815\" xlink:href=\"#m7d0646a66d\" y=\"89.802637\"/>\n     <use style=\"fill:#0000ff;stroke:#0000ff;\" x=\"109.470055\" xlink:href=\"#m7d0646a66d\" y=\"105.416571\"/>\n     <use style=\"fill:#0000ff;stroke:#0000ff;\" x=\"132.428745\" xlink:href=\"#m7d0646a66d\" y=\"87.791297\"/>\n     <use style=\"fill:#0000ff;stroke:#0000ff;\" x=\"281.235066\" xlink:href=\"#m7d0646a66d\" y=\"129.39959\"/>\n     <use style=\"fill:#0000ff;stroke:#0000ff;\" x=\"130.960007\" xlink:href=\"#m7d0646a66d\" y=\"88.651721\"/>\n     <use style=\"fill:#0000ff;stroke:#0000ff;\" x=\"195.197957\" xlink:href=\"#m7d0646a66d\" y=\"104.035146\"/>\n     <use style=\"fill:#0000ff;stroke:#0000ff;\" x=\"188.31808\" xlink:href=\"#m7d0646a66d\" y=\"95.358238\"/>\n     <use style=\"fill:#0000ff;stroke:#0000ff;\" x=\"143.869439\" xlink:href=\"#m7d0646a66d\" y=\"73.214791\"/>\n     <use style=\"fill:#0000ff;stroke:#0000ff;\" x=\"164.354465\" xlink:href=\"#m7d0646a66d\" y=\"57.449625\"/>\n     <use style=\"fill:#0000ff;stroke:#0000ff;\" x=\"149.821691\" xlink:href=\"#m7d0646a66d\" y=\"83.487217\"/>\n     <use style=\"fill:#0000ff;stroke:#0000ff;\" x=\"134.97971\" xlink:href=\"#m7d0646a66d\" y=\"93.710847\"/>\n     <use style=\"fill:#0000ff;stroke:#0000ff;\" x=\"155.078226\" xlink:href=\"#m7d0646a66d\" y=\"70.59375\"/>\n     <use style=\"fill:#0000ff;stroke:#0000ff;\" x=\"133.279067\" xlink:href=\"#m7d0646a66d\" y=\"98.718232\"/>\n     <use style=\"fill:#0000ff;stroke:#0000ff;\" x=\"198.676546\" xlink:href=\"#m7d0646a66d\" y=\"93.054508\"/>\n     <use style=\"fill:#0000ff;stroke:#0000ff;\" x=\"160.953177\" xlink:href=\"#m7d0646a66d\" y=\"89.952888\"/>\n     <use style=\"fill:#0000ff;stroke:#0000ff;\" x=\"223.722389\" xlink:href=\"#m7d0646a66d\" y=\"103.073335\"/>\n     <use style=\"fill:#0000ff;stroke:#0000ff;\" x=\"172.703079\" xlink:href=\"#m7d0646a66d\" y=\"57.769946\"/>\n     <use style=\"fill:#0000ff;stroke:#0000ff;\" x=\"102.203669\" xlink:href=\"#m7d0646a66d\" y=\"89.075391\"/>\n     <use style=\"fill:#0000ff;stroke:#0000ff;\" x=\"132.815255\" xlink:href=\"#m7d0646a66d\" y=\"96.392589\"/>\n     <use style=\"fill:#0000ff;stroke:#0000ff;\" x=\"163.426841\" xlink:href=\"#m7d0646a66d\" y=\"75.286833\"/>\n     <use style=\"fill:#0000ff;stroke:#0000ff;\" x=\"85.970252\" xlink:href=\"#m7d0646a66d\" y=\"87.94933\"/>\n     <use style=\"fill:#0000ff;stroke:#0000ff;\" x=\"280.771254\" xlink:href=\"#m7d0646a66d\" y=\"129.572668\"/>\n     <use style=\"fill:#0000ff;stroke:#0000ff;\" x=\"146.420404\" xlink:href=\"#m7d0646a66d\" y=\"67.577754\"/>\n     <use style=\"fill:#0000ff;stroke:#0000ff;\" x=\"126.39919\" xlink:href=\"#m7d0646a66d\" y=\"90.666004\"/>\n     <use style=\"fill:#0000ff;stroke:#0000ff;\" x=\"223.181275\" xlink:href=\"#m7d0646a66d\" y=\"108.585043\"/>\n     <use style=\"fill:#0000ff;stroke:#0000ff;\" x=\"247.222193\" xlink:href=\"#m7d0646a66d\" y=\"142.092047\"/>\n     <use style=\"fill:#0000ff;stroke:#0000ff;\" x=\"177.727708\" xlink:href=\"#m7d0646a66d\" y=\"80.569797\"/>\n     <use style=\"fill:#0000ff;stroke:#0000ff;\" x=\"142.709909\" xlink:href=\"#m7d0646a66d\" y=\"85.204074\"/>\n     <use style=\"fill:#0000ff;stroke:#0000ff;\" x=\"145.183572\" xlink:href=\"#m7d0646a66d\" y=\"103.021396\"/>\n     <use style=\"fill:#0000ff;stroke:#0000ff;\" x=\"249.618554\" xlink:href=\"#m7d0646a66d\" y=\"119.646334\"/>\n     <use style=\"fill:#0000ff;stroke:#0000ff;\" x=\"259.281302\" xlink:href=\"#m7d0646a66d\" y=\"125.098387\"/>\n     <use style=\"fill:#0000ff;stroke:#0000ff;\" x=\"116.195328\" xlink:href=\"#m7d0646a66d\" y=\"91.97502\"/>\n     <use style=\"fill:#0000ff;stroke:#0000ff;\" x=\"156.546964\" xlink:href=\"#m7d0646a66d\" y=\"89.098417\"/>\n     <use style=\"fill:#0000ff;stroke:#0000ff;\" x=\"127.094908\" xlink:href=\"#m7d0646a66d\" y=\"102.899992\"/>\n     <use style=\"fill:#0000ff;stroke:#0000ff;\" x=\"174.326421\" xlink:href=\"#m7d0646a66d\" y=\"104.952215\"/>\n     <use style=\"fill:#0000ff;stroke:#0000ff;\" x=\"129.104759\" xlink:href=\"#m7d0646a66d\" y=\"94.029139\"/>\n     <use style=\"fill:#0000ff;stroke:#0000ff;\" x=\"121.219957\" xlink:href=\"#m7d0646a66d\" y=\"103.530625\"/>\n     <use style=\"fill:#0000ff;stroke:#0000ff;\" x=\"169.997509\" xlink:href=\"#m7d0646a66d\" y=\"86.265508\"/>\n     <use style=\"fill:#0000ff;stroke:#0000ff;\" x=\"120.833447\" xlink:href=\"#m7d0646a66d\" y=\"103.987198\"/>\n     <use style=\"fill:#0000ff;stroke:#0000ff;\" x=\"164.97288\" xlink:href=\"#m7d0646a66d\" y=\"66.901399\"/>\n     <use style=\"fill:#0000ff;stroke:#0000ff;\" x=\"125.394264\" xlink:href=\"#m7d0646a66d\" y=\"90.103988\"/>\n     <use style=\"fill:#0000ff;stroke:#0000ff;\" x=\"180.819787\" xlink:href=\"#m7d0646a66d\" y=\"97.844007\"/>\n     <use style=\"fill:#0000ff;stroke:#0000ff;\" x=\"69.195721\" xlink:href=\"#m7d0646a66d\" y=\"107.951987\"/>\n     <use style=\"fill:#0000ff;stroke:#0000ff;\" x=\"126.244586\" xlink:href=\"#m7d0646a66d\" y=\"79.791791\"/>\n     <use style=\"fill:#0000ff;stroke:#0000ff;\" x=\"143.792137\" xlink:href=\"#m7d0646a66d\" y=\"80.115121\"/>\n     <use style=\"fill:#0000ff;stroke:#0000ff;\" x=\"230.061152\" xlink:href=\"#m7d0646a66d\" y=\"96.02282\"/>\n     <use style=\"fill:#0000ff;stroke:#0000ff;\" x=\"47.551165\" xlink:href=\"#m7d0646a66d\" y=\"103.535398\"/>\n     <use style=\"fill:#0000ff;stroke:#0000ff;\" x=\"165.436692\" xlink:href=\"#m7d0646a66d\" y=\"93.277234\"/>\n     <use style=\"fill:#0000ff;stroke:#0000ff;\" x=\"56.286289\" xlink:href=\"#m7d0646a66d\" y=\"102.149786\"/>\n     <use style=\"fill:#0000ff;stroke:#0000ff;\" x=\"171.775455\" xlink:href=\"#m7d0646a66d\" y=\"77.168854\"/>\n     <use style=\"fill:#0000ff;stroke:#0000ff;\" x=\"289.351774\" xlink:href=\"#m7d0646a66d\" y=\"126.370708\"/>\n     <use style=\"fill:#0000ff;stroke:#0000ff;\" x=\"129.027457\" xlink:href=\"#m7d0646a66d\" y=\"97.806068\"/>\n     <use style=\"fill:#0000ff;stroke:#0000ff;\" x=\"123.229809\" xlink:href=\"#m7d0646a66d\" y=\"97.470833\"/>\n     <use style=\"fill:#0000ff;stroke:#0000ff;\" x=\"184.530283\" xlink:href=\"#m7d0646a66d\" y=\"98.645757\"/>\n     <use style=\"fill:#0000ff;stroke:#0000ff;\" x=\"115.576912\" xlink:href=\"#m7d0646a66d\" y=\"97.515575\"/>\n     <use style=\"fill:#0000ff;stroke:#0000ff;\" x=\"131.114611\" xlink:href=\"#m7d0646a66d\" y=\"46.740445\"/>\n     <use style=\"fill:#0000ff;stroke:#0000ff;\" x=\"191.023649\" xlink:href=\"#m7d0646a66d\" y=\"84.978405\"/>\n     <use style=\"fill:#0000ff;stroke:#0000ff;\" x=\"342.767446\" xlink:href=\"#m7d0646a66d\" y=\"106.437781\"/>\n     <use style=\"fill:#0000ff;stroke:#0000ff;\" x=\"120.988051\" xlink:href=\"#m7d0646a66d\" y=\"98.932062\"/>\n     <use style=\"fill:#0000ff;stroke:#0000ff;\" x=\"75.843692\" xlink:href=\"#m7d0646a66d\" y=\"90.791201\"/>\n     <use style=\"fill:#0000ff;stroke:#0000ff;\" x=\"179.892164\" xlink:href=\"#m7d0646a66d\" y=\"105.061649\"/>\n     <use style=\"fill:#0000ff;stroke:#0000ff;\" x=\"112.098323\" xlink:href=\"#m7d0646a66d\" y=\"94.753245\"/>\n     <use style=\"fill:#0000ff;stroke:#0000ff;\" x=\"141.009265\" xlink:href=\"#m7d0646a66d\" y=\"89.586779\"/>\n     <use style=\"fill:#0000ff;stroke:#0000ff;\" x=\"200.067982\" xlink:href=\"#m7d0646a66d\" y=\"89.41187\"/>\n     <use style=\"fill:#0000ff;stroke:#0000ff;\" x=\"163.426841\" xlink:href=\"#m7d0646a66d\" y=\"85.906398\"/>\n     <use style=\"fill:#0000ff;stroke:#0000ff;\" x=\"167.601148\" xlink:href=\"#m7d0646a66d\" y=\"52.489991\"/>\n     <use style=\"fill:#0000ff;stroke:#0000ff;\" x=\"163.890653\" xlink:href=\"#m7d0646a66d\" y=\"69.179291\"/>\n     <use style=\"fill:#0000ff;stroke:#0000ff;\" x=\"141.395775\" xlink:href=\"#m7d0646a66d\" y=\"89.754887\"/>\n     <use style=\"fill:#0000ff;stroke:#0000ff;\" x=\"127.17221\" xlink:href=\"#m7d0646a66d\" y=\"72.88649\"/>\n     <use style=\"fill:#0000ff;stroke:#0000ff;\" x=\"164.354465\" xlink:href=\"#m7d0646a66d\" y=\"92.431724\"/>\n     <use style=\"fill:#0000ff;stroke:#0000ff;\" x=\"161.648895\" xlink:href=\"#m7d0646a66d\" y=\"90.00561\"/>\n     <use style=\"fill:#0000ff;stroke:#0000ff;\" x=\"17.635297\" xlink:href=\"#m7d0646a66d\" y=\"93.45986\"/>\n     <use style=\"fill:#0000ff;stroke:#0000ff;\" x=\"161.494291\" xlink:href=\"#m7d0646a66d\" y=\"47.58504\"/>\n     <use style=\"fill:#0000ff;stroke:#0000ff;\" x=\"27.916461\" xlink:href=\"#m7d0646a66d\" y=\"100.555182\"/>\n     <use style=\"fill:#0000ff;stroke:#0000ff;\" x=\"180.897089\" xlink:href=\"#m7d0646a66d\" y=\"89.069636\"/>\n    </g>\n   </g>\n   <g id=\"PathCollection_2\">\n    <defs>\n     <path d=\"M -3 3 \nL 3 3 \nL 3 -3 \nL -3 -3 \nz\n\" id=\"m547c8fd21b\" style=\"stroke:#90ee90;\"/>\n    </defs>\n    <g clip-path=\"url(#p060bd336f3)\">\n     <use style=\"fill:#90ee90;stroke:#90ee90;\" x=\"179.969466\" xlink:href=\"#m547c8fd21b\" y=\"85.667712\"/>\n     <use style=\"fill:#90ee90;stroke:#90ee90;\" x=\"239.801202\" xlink:href=\"#m547c8fd21b\" y=\"44.287776\"/>\n     <use style=\"fill:#90ee90;stroke:#90ee90;\" x=\"141.550379\" xlink:href=\"#m547c8fd21b\" y=\"94.382296\"/>\n     <use style=\"fill:#90ee90;stroke:#90ee90;\" x=\"220.862216\" xlink:href=\"#m547c8fd21b\" y=\"112.2615\"/>\n     <use style=\"fill:#90ee90;stroke:#90ee90;\" x=\"162.885727\" xlink:href=\"#m547c8fd21b\" y=\"95.478529\"/>\n     <use style=\"fill:#90ee90;stroke:#90ee90;\" x=\"129.259363\" xlink:href=\"#m547c8fd21b\" y=\"91.472725\"/>\n     <use style=\"fill:#90ee90;stroke:#90ee90;\" x=\"108.387827\" xlink:href=\"#m547c8fd21b\" y=\"88.329372\"/>\n     <use style=\"fill:#90ee90;stroke:#90ee90;\" x=\"126.940304\" xlink:href=\"#m547c8fd21b\" y=\"89.839398\"/>\n     <use style=\"fill:#90ee90;stroke:#90ee90;\" x=\"206.097537\" xlink:href=\"#m547c8fd21b\" y=\"93.720987\"/>\n     <use style=\"fill:#90ee90;stroke:#90ee90;\" x=\"149.048672\" xlink:href=\"#m547c8fd21b\" y=\"80.0276\"/>\n     <use style=\"fill:#90ee90;stroke:#90ee90;\" x=\"127.094908\" xlink:href=\"#m547c8fd21b\" y=\"56.985988\"/>\n     <use style=\"fill:#90ee90;stroke:#90ee90;\" x=\"161.726197\" xlink:href=\"#m547c8fd21b\" y=\"94.974206\"/>\n     <use style=\"fill:#90ee90;stroke:#90ee90;\" x=\"143.251023\" xlink:href=\"#m547c8fd21b\" y=\"86.56385\"/>\n     <use style=\"fill:#90ee90;stroke:#90ee90;\" x=\"169.611\" xlink:href=\"#m547c8fd21b\" y=\"62.984228\"/>\n     <use style=\"fill:#90ee90;stroke:#90ee90;\" x=\"167.369242\" xlink:href=\"#m547c8fd21b\" y=\"85.059908\"/>\n     <use style=\"fill:#90ee90;stroke:#90ee90;\" x=\"171.543549\" xlink:href=\"#m547c8fd21b\" y=\"86.937939\"/>\n     <use style=\"fill:#90ee90;stroke:#90ee90;\" x=\"180.819787\" xlink:href=\"#m547c8fd21b\" y=\"93.783585\"/>\n     <use style=\"fill:#90ee90;stroke:#90ee90;\" x=\"113.335154\" xlink:href=\"#m547c8fd21b\" y=\"84.609155\"/>\n     <use style=\"fill:#90ee90;stroke:#90ee90;\" x=\"151.522335\" xlink:href=\"#m547c8fd21b\" y=\"60.988783\"/>\n     <use style=\"fill:#90ee90;stroke:#90ee90;\" x=\"180.433277\" xlink:href=\"#m547c8fd21b\" y=\"99.549941\"/>\n     <use style=\"fill:#90ee90;stroke:#90ee90;\" x=\"205.633725\" xlink:href=\"#m547c8fd21b\" y=\"117.007238\"/>\n     <use style=\"fill:#90ee90;stroke:#90ee90;\" x=\"81.795945\" xlink:href=\"#m547c8fd21b\" y=\"73.577693\"/>\n     <use style=\"fill:#90ee90;stroke:#90ee90;\" x=\"76.230202\" xlink:href=\"#m547c8fd21b\" y=\"72.218898\"/>\n     <use style=\"fill:#90ee90;stroke:#90ee90;\" x=\"262.450684\" xlink:href=\"#m547c8fd21b\" y=\"126.102062\"/>\n     <use style=\"fill:#90ee90;stroke:#90ee90;\" x=\"192.492387\" xlink:href=\"#m547c8fd21b\" y=\"89.115424\"/>\n     <use style=\"fill:#90ee90;stroke:#90ee90;\" x=\"101.353347\" xlink:href=\"#m547c8fd21b\" y=\"100.949288\"/>\n     <use style=\"fill:#90ee90;stroke:#90ee90;\" x=\"126.39919\" xlink:href=\"#m547c8fd21b\" y=\"107.532373\"/>\n     <use style=\"fill:#90ee90;stroke:#90ee90;\" x=\"90.994881\" xlink:href=\"#m547c8fd21b\" y=\"92.945792\"/>\n     <use style=\"fill:#90ee90;stroke:#90ee90;\" x=\"221.40333\" xlink:href=\"#m547c8fd21b\" y=\"113.933615\"/>\n     <use style=\"fill:#90ee90;stroke:#90ee90;\" x=\"217.460928\" xlink:href=\"#m547c8fd21b\" y=\"100.100118\"/>\n     <use style=\"fill:#90ee90;stroke:#90ee90;\" x=\"245.753455\" xlink:href=\"#m547c8fd21b\" y=\"122.338019\"/>\n     <use style=\"fill:#90ee90;stroke:#90ee90;\" x=\"86.820574\" xlink:href=\"#m547c8fd21b\" y=\"67.642248\"/>\n     <use style=\"fill:#90ee90;stroke:#90ee90;\" x=\"165.977806\" xlink:href=\"#m547c8fd21b\" y=\"93.699989\"/>\n     <use style=\"fill:#90ee90;stroke:#90ee90;\" x=\"115.345006\" xlink:href=\"#m547c8fd21b\" y=\"105.410618\"/>\n     <use style=\"fill:#90ee90;stroke:#90ee90;\" x=\"134.515898\" xlink:href=\"#m547c8fd21b\" y=\"88.574143\"/>\n     <use style=\"fill:#90ee90;stroke:#90ee90;\" x=\"115.88612\" xlink:href=\"#m547c8fd21b\" y=\"98.337209\"/>\n     <use style=\"fill:#90ee90;stroke:#90ee90;\" x=\"234.699271\" xlink:href=\"#m547c8fd21b\" y=\"87.420547\"/>\n     <use style=\"fill:#90ee90;stroke:#90ee90;\" x=\"197.207808\" xlink:href=\"#m547c8fd21b\" y=\"98.600034\"/>\n     <use style=\"fill:#90ee90;stroke:#90ee90;\" x=\"140.854661\" xlink:href=\"#m547c8fd21b\" y=\"91.206173\"/>\n     <use style=\"fill:#90ee90;stroke:#90ee90;\" x=\"139.540527\" xlink:href=\"#m547c8fd21b\" y=\"68.271051\"/>\n     <use style=\"fill:#90ee90;stroke:#90ee90;\" x=\"157.319984\" xlink:href=\"#m547c8fd21b\" y=\"95.681435\"/>\n     <use style=\"fill:#90ee90;stroke:#90ee90;\" x=\"134.438596\" xlink:href=\"#m547c8fd21b\" y=\"65.177477\"/>\n     <use style=\"fill:#90ee90;stroke:#90ee90;\" x=\"181.206297\" xlink:href=\"#m547c8fd21b\" y=\"87.080209\"/>\n     <use style=\"fill:#90ee90;stroke:#90ee90;\" x=\"104.909238\" xlink:href=\"#m547c8fd21b\" y=\"103.995112\"/>\n     <use style=\"fill:#90ee90;stroke:#90ee90;\" x=\"169.301792\" xlink:href=\"#m547c8fd21b\" y=\"89.023848\"/>\n     <use style=\"fill:#90ee90;stroke:#90ee90;\" x=\"120.833447\" xlink:href=\"#m547c8fd21b\" y=\"66.818718\"/>\n     <use style=\"fill:#90ee90;stroke:#90ee90;\" x=\"190.096026\" xlink:href=\"#m547c8fd21b\" y=\"81.264141\"/>\n     <use style=\"fill:#90ee90;stroke:#90ee90;\" x=\"208.030086\" xlink:href=\"#m547c8fd21b\" y=\"103.93173\"/>\n     <use style=\"fill:#90ee90;stroke:#90ee90;\" x=\"166.287014\" xlink:href=\"#m547c8fd21b\" y=\"87.65014\"/>\n     <use style=\"fill:#90ee90;stroke:#90ee90;\" x=\"122.843299\" xlink:href=\"#m547c8fd21b\" y=\"91.992943\"/>\n     <use style=\"fill:#90ee90;stroke:#90ee90;\" x=\"156.469662\" xlink:href=\"#m547c8fd21b\" y=\"89.439603\"/>\n     <use style=\"fill:#90ee90;stroke:#90ee90;\" x=\"192.569689\" xlink:href=\"#m547c8fd21b\" y=\"106.265287\"/>\n     <use style=\"fill:#90ee90;stroke:#90ee90;\" x=\"233.617043\" xlink:href=\"#m547c8fd21b\" y=\"37.849971\"/>\n     <use style=\"fill:#90ee90;stroke:#90ee90;\" x=\"132.428745\" xlink:href=\"#m547c8fd21b\" y=\"92.164059\"/>\n     <use style=\"fill:#90ee90;stroke:#90ee90;\" x=\"151.367731\" xlink:href=\"#m547c8fd21b\" y=\"86.033689\"/>\n     <use style=\"fill:#90ee90;stroke:#90ee90;\" x=\"122.224883\" xlink:href=\"#m547c8fd21b\" y=\"96.284137\"/>\n     <use style=\"fill:#90ee90;stroke:#90ee90;\" x=\"124.234734\" xlink:href=\"#m547c8fd21b\" y=\"85.539243\"/>\n     <use style=\"fill:#90ee90;stroke:#90ee90;\" x=\"145.028968\" xlink:href=\"#m547c8fd21b\" y=\"86.21272\"/>\n     <use style=\"fill:#90ee90;stroke:#90ee90;\" x=\"148.507558\" xlink:href=\"#m547c8fd21b\" y=\"78.355485\"/>\n     <use style=\"fill:#90ee90;stroke:#90ee90;\" x=\"117.664066\" xlink:href=\"#m547c8fd21b\" y=\"79.55801\"/>\n     <use style=\"fill:#90ee90;stroke:#90ee90;\" x=\"126.476492\" xlink:href=\"#m547c8fd21b\" y=\"92.198858\"/>\n     <use style=\"fill:#90ee90;stroke:#90ee90;\" x=\"141.936889\" xlink:href=\"#m547c8fd21b\" y=\"99.860187\"/>\n     <use style=\"fill:#90ee90;stroke:#90ee90;\" x=\"176.568178\" xlink:href=\"#m547c8fd21b\" y=\"87.249298\"/>\n     <use style=\"fill:#90ee90;stroke:#90ee90;\" x=\"132.583349\" xlink:href=\"#m547c8fd21b\" y=\"73.053616\"/>\n     <use style=\"fill:#90ee90;stroke:#90ee90;\" x=\"89.912653\" xlink:href=\"#m547c8fd21b\" y=\"92.100282\"/>\n     <use style=\"fill:#90ee90;stroke:#90ee90;\" x=\"78.317355\" xlink:href=\"#m547c8fd21b\" y=\"86.432371\"/>\n     <use style=\"fill:#90ee90;stroke:#90ee90;\" x=\"193.497313\" xlink:href=\"#m547c8fd21b\" y=\"74.685113\"/>\n     <use style=\"fill:#90ee90;stroke:#90ee90;\" x=\"123.69362\" xlink:href=\"#m547c8fd21b\" y=\"102.607537\"/>\n     <use style=\"fill:#90ee90;stroke:#90ee90;\" x=\"122.456789\" xlink:href=\"#m547c8fd21b\" y=\"86.827392\"/>\n     <use style=\"fill:#90ee90;stroke:#90ee90;\" x=\"139.927037\" xlink:href=\"#m547c8fd21b\" y=\"104.045938\"/>\n     <use style=\"fill:#90ee90;stroke:#90ee90;\" x=\"107.614808\" xlink:href=\"#m547c8fd21b\" y=\"53.635738\"/>\n     <use style=\"fill:#90ee90;stroke:#90ee90;\" x=\"241.26994\" xlink:href=\"#m547c8fd21b\" y=\"87.154976\"/>\n     <use style=\"fill:#90ee90;stroke:#90ee90;\" x=\"129.413967\" xlink:href=\"#m547c8fd21b\" y=\"91.102692\"/>\n     <use style=\"fill:#90ee90;stroke:#90ee90;\" x=\"136.061938\" xlink:href=\"#m547c8fd21b\" y=\"99.866139\"/>\n     <use style=\"fill:#90ee90;stroke:#90ee90;\" x=\"272.80915\" xlink:href=\"#m547c8fd21b\" y=\"118.17621\"/>\n     <use style=\"fill:#90ee90;stroke:#90ee90;\" x=\"123.461714\" xlink:href=\"#m547c8fd21b\" y=\"91.13749\"/>\n     <use style=\"fill:#90ee90;stroke:#90ee90;\" x=\"158.634118\" xlink:href=\"#m547c8fd21b\" y=\"41.468536\"/>\n     <use style=\"fill:#90ee90;stroke:#90ee90;\" x=\"161.185083\" xlink:href=\"#m547c8fd21b\" y=\"90.178689\"/>\n     <use style=\"fill:#90ee90;stroke:#90ee90;\" x=\"121.992977\" xlink:href=\"#m547c8fd21b\" y=\"93.559615\"/>\n     <use style=\"fill:#90ee90;stroke:#90ee90;\" x=\"228.669716\" xlink:href=\"#m547c8fd21b\" y=\"103.413541\"/>\n     <use style=\"fill:#90ee90;stroke:#90ee90;\" x=\"197.748922\" xlink:href=\"#m547c8fd21b\" y=\"92.463646\"/>\n     <use style=\"fill:#90ee90;stroke:#90ee90;\" x=\"131.964933\" xlink:href=\"#m547c8fd21b\" y=\"102.019684\"/>\n     <use style=\"fill:#90ee90;stroke:#90ee90;\" x=\"57.600423\" xlink:href=\"#m547c8fd21b\" y=\"86.979407\"/>\n     <use style=\"fill:#90ee90;stroke:#90ee90;\" x=\"198.599244\" xlink:href=\"#m547c8fd21b\" y=\"97.456117\"/>\n     <use style=\"fill:#90ee90;stroke:#90ee90;\" x=\"219.85729\" xlink:href=\"#m547c8fd21b\" y=\"98.893537\"/>\n     <use style=\"fill:#90ee90;stroke:#90ee90;\" x=\"142.091493\" xlink:href=\"#m547c8fd21b\" y=\"78.251022\"/>\n     <use style=\"fill:#90ee90;stroke:#90ee90;\" x=\"132.815255\" xlink:href=\"#m547c8fd21b\" y=\"87.647065\"/>\n     <use style=\"fill:#90ee90;stroke:#90ee90;\" x=\"-1\" xlink:href=\"#m547c8fd21b\" y=\"156.576991\"/>\n     <use style=\"fill:#90ee90;stroke:#90ee90;\" x=\"-1\" xlink:href=\"#m547c8fd21b\" y=\"153.291985\"/>\n     <use style=\"fill:#90ee90;stroke:#90ee90;\" x=\"98.802381\" xlink:href=\"#m547c8fd21b\" y=\"95.966759\"/>\n     <use style=\"fill:#90ee90;stroke:#90ee90;\" x=\"148.816766\" xlink:href=\"#m547c8fd21b\" y=\"178.813633\"/>\n     <use style=\"fill:#90ee90;stroke:#90ee90;\" x=\"140.931963\" xlink:href=\"#m547c8fd21b\" y=\"85.242863\"/>\n     <use style=\"fill:#90ee90;stroke:#90ee90;\" x=\"231.607192\" xlink:href=\"#m547c8fd21b\" y=\"95.75823\"/>\n     <use style=\"fill:#90ee90;stroke:#90ee90;\" x=\"169.765604\" xlink:href=\"#m547c8fd21b\" y=\"91.03715\"/>\n     <use style=\"fill:#90ee90;stroke:#90ee90;\" x=\"207.875482\" xlink:href=\"#m547c8fd21b\" y=\"116.79537\"/>\n     <use style=\"fill:#90ee90;stroke:#90ee90;\" x=\"122.765997\" xlink:href=\"#m547c8fd21b\" y=\"91.084769\"/>\n     <use style=\"fill:#90ee90;stroke:#90ee90;\" x=\"159.020628\" xlink:href=\"#m547c8fd21b\" y=\"64.125136\"/>\n     <use style=\"fill:#90ee90;stroke:#90ee90;\" x=\"187.390456\" xlink:href=\"#m547c8fd21b\" y=\"79.462707\"/>\n     <use style=\"fill:#90ee90;stroke:#90ee90;\" x=\"201.459417\" xlink:href=\"#m547c8fd21b\" y=\"71.713924\"/>\n     <use style=\"fill:#90ee90;stroke:#90ee90;\" x=\"101.121441\" xlink:href=\"#m547c8fd21b\" y=\"83.857119\"/>\n     <use style=\"fill:#90ee90;stroke:#90ee90;\" x=\"26.061213\" xlink:href=\"#m547c8fd21b\" y=\"124.36067\"/>\n     <use style=\"fill:#90ee90;stroke:#90ee90;\" x=\"165.436692\" xlink:href=\"#m547c8fd21b\" y=\"72.662783\"/>\n     <use style=\"fill:#90ee90;stroke:#90ee90;\" x=\"147.734538\" xlink:href=\"#m547c8fd21b\" y=\"57.092478\"/>\n     <use style=\"fill:#90ee90;stroke:#90ee90;\" x=\"148.275652\" xlink:href=\"#m547c8fd21b\" y=\"95.308393\"/>\n     <use style=\"fill:#90ee90;stroke:#90ee90;\" x=\"128.409042\" xlink:href=\"#m547c8fd21b\" y=\"89.603655\"/>\n     <use style=\"fill:#90ee90;stroke:#90ee90;\" x=\"131.346517\" xlink:href=\"#m547c8fd21b\" y=\"83.822386\"/>\n     <use style=\"fill:#90ee90;stroke:#90ee90;\" x=\"101.507951\" xlink:href=\"#m547c8fd21b\" y=\"122.755407\"/>\n     <use style=\"fill:#90ee90;stroke:#90ee90;\" x=\"90.067257\" xlink:href=\"#m547c8fd21b\" y=\"107.659598\"/>\n     <use style=\"fill:#90ee90;stroke:#90ee90;\" x=\"128.33174\" xlink:href=\"#m547c8fd21b\" y=\"97.441006\"/>\n     <use style=\"fill:#90ee90;stroke:#90ee90;\" x=\"137.453374\" xlink:href=\"#m547c8fd21b\" y=\"93.100099\"/>\n     <use style=\"fill:#90ee90;stroke:#90ee90;\" x=\"133.897482\" xlink:href=\"#m547c8fd21b\" y=\"88.804915\"/>\n     <use style=\"fill:#90ee90;stroke:#90ee90;\" x=\"292.057344\" xlink:href=\"#m547c8fd21b\" y=\"90.066641\"/>\n     <use style=\"fill:#90ee90;stroke:#90ee90;\" x=\"149.821691\" xlink:href=\"#m547c8fd21b\" y=\"89.10934\"/>\n     <use style=\"fill:#90ee90;stroke:#90ee90;\" x=\"106.609882\" xlink:href=\"#m547c8fd21b\" y=\"110.544313\"/>\n     <use style=\"fill:#90ee90;stroke:#90ee90;\" x=\"174.249119\" xlink:href=\"#m547c8fd21b\" y=\"47.198131\"/>\n     <use style=\"fill:#90ee90;stroke:#90ee90;\" x=\"149.898993\" xlink:href=\"#m547c8fd21b\" y=\"85.020072\"/>\n     <use style=\"fill:#90ee90;stroke:#90ee90;\" x=\"143.946741\" xlink:href=\"#m547c8fd21b\" y=\"116.913568\"/>\n     <use style=\"fill:#90ee90;stroke:#90ee90;\" x=\"130.805403\" xlink:href=\"#m547c8fd21b\" y=\"71.843045\"/>\n     <use style=\"fill:#90ee90;stroke:#90ee90;\" x=\"84.965326\" xlink:href=\"#m547c8fd21b\" y=\"82.389872\"/>\n     <use style=\"fill:#90ee90;stroke:#90ee90;\" x=\"241.888356\" xlink:href=\"#m547c8fd21b\" y=\"92.233987\"/>\n     <use style=\"fill:#90ee90;stroke:#90ee90;\" x=\"129.491269\" xlink:href=\"#m547c8fd21b\" y=\"79.829599\"/>\n     <use style=\"fill:#90ee90;stroke:#90ee90;\" x=\"140.468151\" xlink:href=\"#m547c8fd21b\" y=\"101.657631\"/>\n     <use style=\"fill:#90ee90;stroke:#90ee90;\" x=\"133.665577\" xlink:href=\"#m547c8fd21b\" y=\"100.76038\"/>\n     <use style=\"fill:#90ee90;stroke:#90ee90;\" x=\"184.221075\" xlink:href=\"#m547c8fd21b\" y=\"75.02329\"/>\n     <use style=\"fill:#90ee90;stroke:#90ee90;\" x=\"120.678843\" xlink:href=\"#m547c8fd21b\" y=\"52.821103\"/>\n     <use style=\"fill:#90ee90;stroke:#90ee90;\" x=\"124.08013\" xlink:href=\"#m547c8fd21b\" y=\"57.798661\"/>\n     <use style=\"fill:#90ee90;stroke:#90ee90;\" x=\"198.135432\" xlink:href=\"#m547c8fd21b\" y=\"104.18834\"/>\n     <use style=\"fill:#90ee90;stroke:#90ee90;\" x=\"109.006243\" xlink:href=\"#m547c8fd21b\" y=\"78.416055\"/>\n     <use style=\"fill:#90ee90;stroke:#90ee90;\" x=\"185.921718\" xlink:href=\"#m547c8fd21b\" y=\"83.446532\"/>\n     <use style=\"fill:#90ee90;stroke:#90ee90;\" x=\"173.862609\" xlink:href=\"#m547c8fd21b\" y=\"64.833413\"/>\n     <use style=\"fill:#90ee90;stroke:#90ee90;\" x=\"155.387434\" xlink:href=\"#m547c8fd21b\" y=\"66.730282\"/>\n     <use style=\"fill:#90ee90;stroke:#90ee90;\" x=\"182.288525\" xlink:href=\"#m547c8fd21b\" y=\"53.5683\"/>\n     <use style=\"fill:#90ee90;stroke:#90ee90;\" x=\"170.384019\" xlink:href=\"#m547c8fd21b\" y=\"97.053181\"/>\n     <use style=\"fill:#90ee90;stroke:#90ee90;\" x=\"162.499217\" xlink:href=\"#m547c8fd21b\" y=\"91.562339\"/>\n     <use style=\"fill:#90ee90;stroke:#90ee90;\" x=\"143.251023\" xlink:href=\"#m547c8fd21b\" y=\"137.787637\"/>\n     <use style=\"fill:#90ee90;stroke:#90ee90;\" x=\"306.744721\" xlink:href=\"#m547c8fd21b\" y=\"97.391755\"/>\n     <use style=\"fill:#90ee90;stroke:#90ee90;\" x=\"228.0513\" xlink:href=\"#m547c8fd21b\" y=\"95.211128\"/>\n     <use style=\"fill:#90ee90;stroke:#90ee90;\" x=\"148.430256\" xlink:href=\"#m547c8fd21b\" y=\"100.872823\"/>\n     <use style=\"fill:#90ee90;stroke:#90ee90;\" x=\"209.266918\" xlink:href=\"#m547c8fd21b\" y=\"104.407207\"/>\n     <use style=\"fill:#90ee90;stroke:#90ee90;\" x=\"220.784914\" xlink:href=\"#m547c8fd21b\" y=\"108.854604\"/>\n     <use style=\"fill:#90ee90;stroke:#90ee90;\" x=\"216.224097\" xlink:href=\"#m547c8fd21b\" y=\"98.062941\"/>\n     <use style=\"fill:#90ee90;stroke:#90ee90;\" x=\"146.188498\" xlink:href=\"#m547c8fd21b\" y=\"101.709372\"/>\n     <use style=\"fill:#90ee90;stroke:#90ee90;\" x=\"85.661044\" xlink:href=\"#m547c8fd21b\" y=\"91.188118\"/>\n     <use style=\"fill:#90ee90;stroke:#90ee90;\" x=\"194.888749\" xlink:href=\"#m547c8fd21b\" y=\"115.082438\"/>\n     <use style=\"fill:#90ee90;stroke:#90ee90;\" x=\"109.933867\" xlink:href=\"#m547c8fd21b\" y=\"99.933709\"/>\n     <use style=\"fill:#90ee90;stroke:#90ee90;\" x=\"138.767508\" xlink:href=\"#m547c8fd21b\" y=\"101.355233\"/>\n     <use style=\"fill:#90ee90;stroke:#90ee90;\" x=\"148.430256\" xlink:href=\"#m547c8fd21b\" y=\"99.935803\"/>\n     <use style=\"fill:#90ee90;stroke:#90ee90;\" x=\"144.71976\" xlink:href=\"#m547c8fd21b\" y=\"91.013209\"/>\n     <use style=\"fill:#90ee90;stroke:#90ee90;\" x=\"132.351443\" xlink:href=\"#m547c8fd21b\" y=\"88.444824\"/>\n     <use style=\"fill:#90ee90;stroke:#90ee90;\" x=\"100.966837\" xlink:href=\"#m547c8fd21b\" y=\"88.599914\"/>\n     <use style=\"fill:#90ee90;stroke:#90ee90;\" x=\"174.790233\" xlink:href=\"#m547c8fd21b\" y=\"111.33828\"/>\n     <use style=\"fill:#90ee90;stroke:#90ee90;\" x=\"100.657629\" xlink:href=\"#m547c8fd21b\" y=\"95.586784\"/>\n     <use style=\"fill:#90ee90;stroke:#90ee90;\" x=\"191.642065\" xlink:href=\"#m547c8fd21b\" y=\"89.745076\"/>\n    </g>\n   </g>\n   <g id=\"matplotlib.axis_1\">\n    <g id=\"xtick_1\">\n     <g id=\"line2d_1\">\n      <defs>\n       <path d=\"M 0 0 \nL 0 3.5 \n\" id=\"m3e7ad337d9\" style=\"stroke:#000000;stroke-width:0.8;\"/>\n      </defs>\n      <g>\n       <use style=\"stroke:#000000;stroke-width:0.8;\" x=\"48.982813\" xlink:href=\"#m3e7ad337d9\" y=\"224.64\"/>\n      </g>\n     </g>\n     <g id=\"text_1\">\n      <!-- 10 -->\n      <g transform=\"translate(42.620313 239.238437)scale(0.1 -0.1)\">\n       <defs>\n        <path d=\"M 12.40625 8.296875 \nL 28.515625 8.296875 \nL 28.515625 63.921875 \nL 10.984375 60.40625 \nL 10.984375 69.390625 \nL 28.421875 72.90625 \nL 38.28125 72.90625 \nL 38.28125 8.296875 \nL 54.390625 8.296875 \nL 54.390625 0 \nL 12.40625 0 \nz\n\" id=\"DejaVuSans-49\"/>\n        <path d=\"M 31.78125 66.40625 \nQ 24.171875 66.40625 20.328125 58.90625 \nQ 16.5 51.421875 16.5 36.375 \nQ 16.5 21.390625 20.328125 13.890625 \nQ 24.171875 6.390625 31.78125 6.390625 \nQ 39.453125 6.390625 43.28125 13.890625 \nQ 47.125 21.390625 47.125 36.375 \nQ 47.125 51.421875 43.28125 58.90625 \nQ 39.453125 66.40625 31.78125 66.40625 \nz\nM 31.78125 74.21875 \nQ 44.046875 74.21875 50.515625 64.515625 \nQ 56.984375 54.828125 56.984375 36.375 \nQ 56.984375 17.96875 50.515625 8.265625 \nQ 44.046875 -1.421875 31.78125 -1.421875 \nQ 19.53125 -1.421875 13.0625 8.265625 \nQ 6.59375 17.96875 6.59375 36.375 \nQ 6.59375 54.828125 13.0625 64.515625 \nQ 19.53125 74.21875 31.78125 74.21875 \nz\n\" id=\"DejaVuSans-48\"/>\n       </defs>\n       <use xlink:href=\"#DejaVuSans-49\"/>\n       <use x=\"63.623047\" xlink:href=\"#DejaVuSans-48\"/>\n      </g>\n     </g>\n    </g>\n    <g id=\"xtick_2\">\n     <g id=\"line2d_2\">\n      <g>\n       <use style=\"stroke:#000000;stroke-width:0.8;\" x=\"90.832813\" xlink:href=\"#m3e7ad337d9\" y=\"224.64\"/>\n      </g>\n     </g>\n     <g id=\"text_2\">\n      <!-- 15 -->\n      <g transform=\"translate(84.470313 239.238437)scale(0.1 -0.1)\">\n       <defs>\n        <path d=\"M 10.796875 72.90625 \nL 49.515625 72.90625 \nL 49.515625 64.59375 \nL 19.828125 64.59375 \nL 19.828125 46.734375 \nQ 21.96875 47.46875 24.109375 47.828125 \nQ 26.265625 48.1875 28.421875 48.1875 \nQ 40.625 48.1875 47.75 41.5 \nQ 54.890625 34.8125 54.890625 23.390625 \nQ 54.890625 11.625 47.5625 5.09375 \nQ 40.234375 -1.421875 26.90625 -1.421875 \nQ 22.3125 -1.421875 17.546875 -0.640625 \nQ 12.796875 0.140625 7.71875 1.703125 \nL 7.71875 11.625 \nQ 12.109375 9.234375 16.796875 8.0625 \nQ 21.484375 6.890625 26.703125 6.890625 \nQ 35.15625 6.890625 40.078125 11.328125 \nQ 45.015625 15.765625 45.015625 23.390625 \nQ 45.015625 31 40.078125 35.4375 \nQ 35.15625 39.890625 26.703125 39.890625 \nQ 22.75 39.890625 18.8125 39.015625 \nQ 14.890625 38.140625 10.796875 36.28125 \nz\n\" id=\"DejaVuSans-53\"/>\n       </defs>\n       <use xlink:href=\"#DejaVuSans-49\"/>\n       <use x=\"63.623047\" xlink:href=\"#DejaVuSans-53\"/>\n      </g>\n     </g>\n    </g>\n    <g id=\"xtick_3\">\n     <g id=\"line2d_3\">\n      <g>\n       <use style=\"stroke:#000000;stroke-width:0.8;\" x=\"132.682813\" xlink:href=\"#m3e7ad337d9\" y=\"224.64\"/>\n      </g>\n     </g>\n     <g id=\"text_3\">\n      <!-- 20 -->\n      <g transform=\"translate(126.320313 239.238437)scale(0.1 -0.1)\">\n       <defs>\n        <path d=\"M 19.1875 8.296875 \nL 53.609375 8.296875 \nL 53.609375 0 \nL 7.328125 0 \nL 7.328125 8.296875 \nQ 12.9375 14.109375 22.625 23.890625 \nQ 32.328125 33.6875 34.8125 36.53125 \nQ 39.546875 41.84375 41.421875 45.53125 \nQ 43.3125 49.21875 43.3125 52.78125 \nQ 43.3125 58.59375 39.234375 62.25 \nQ 35.15625 65.921875 28.609375 65.921875 \nQ 23.96875 65.921875 18.8125 64.3125 \nQ 13.671875 62.703125 7.8125 59.421875 \nL 7.8125 69.390625 \nQ 13.765625 71.78125 18.9375 73 \nQ 24.125 74.21875 28.421875 74.21875 \nQ 39.75 74.21875 46.484375 68.546875 \nQ 53.21875 62.890625 53.21875 53.421875 \nQ 53.21875 48.921875 51.53125 44.890625 \nQ 49.859375 40.875 45.40625 35.40625 \nQ 44.1875 33.984375 37.640625 27.21875 \nQ 31.109375 20.453125 19.1875 8.296875 \nz\n\" id=\"DejaVuSans-50\"/>\n       </defs>\n       <use xlink:href=\"#DejaVuSans-50\"/>\n       <use x=\"63.623047\" xlink:href=\"#DejaVuSans-48\"/>\n      </g>\n     </g>\n    </g>\n    <g id=\"xtick_4\">\n     <g id=\"line2d_4\">\n      <g>\n       <use style=\"stroke:#000000;stroke-width:0.8;\" x=\"174.532813\" xlink:href=\"#m3e7ad337d9\" y=\"224.64\"/>\n      </g>\n     </g>\n     <g id=\"text_4\">\n      <!-- 25 -->\n      <g transform=\"translate(168.170313 239.238437)scale(0.1 -0.1)\">\n       <use xlink:href=\"#DejaVuSans-50\"/>\n       <use x=\"63.623047\" xlink:href=\"#DejaVuSans-53\"/>\n      </g>\n     </g>\n    </g>\n    <g id=\"xtick_5\">\n     <g id=\"line2d_5\">\n      <g>\n       <use style=\"stroke:#000000;stroke-width:0.8;\" x=\"216.382813\" xlink:href=\"#m3e7ad337d9\" y=\"224.64\"/>\n      </g>\n     </g>\n     <g id=\"text_5\">\n      <!-- 30 -->\n      <g transform=\"translate(210.020313 239.238437)scale(0.1 -0.1)\">\n       <defs>\n        <path d=\"M 40.578125 39.3125 \nQ 47.65625 37.796875 51.625 33 \nQ 55.609375 28.21875 55.609375 21.1875 \nQ 55.609375 10.40625 48.1875 4.484375 \nQ 40.765625 -1.421875 27.09375 -1.421875 \nQ 22.515625 -1.421875 17.65625 -0.515625 \nQ 12.796875 0.390625 7.625 2.203125 \nL 7.625 11.71875 \nQ 11.71875 9.328125 16.59375 8.109375 \nQ 21.484375 6.890625 26.8125 6.890625 \nQ 36.078125 6.890625 40.9375 10.546875 \nQ 45.796875 14.203125 45.796875 21.1875 \nQ 45.796875 27.640625 41.28125 31.265625 \nQ 36.765625 34.90625 28.71875 34.90625 \nL 20.21875 34.90625 \nL 20.21875 43.015625 \nL 29.109375 43.015625 \nQ 36.375 43.015625 40.234375 45.921875 \nQ 44.09375 48.828125 44.09375 54.296875 \nQ 44.09375 59.90625 40.109375 62.90625 \nQ 36.140625 65.921875 28.71875 65.921875 \nQ 24.65625 65.921875 20.015625 65.03125 \nQ 15.375 64.15625 9.8125 62.3125 \nL 9.8125 71.09375 \nQ 15.4375 72.65625 20.34375 73.4375 \nQ 25.25 74.21875 29.59375 74.21875 \nQ 40.828125 74.21875 47.359375 69.109375 \nQ 53.90625 64.015625 53.90625 55.328125 \nQ 53.90625 49.265625 50.4375 45.09375 \nQ 46.96875 40.921875 40.578125 39.3125 \nz\n\" id=\"DejaVuSans-51\"/>\n       </defs>\n       <use xlink:href=\"#DejaVuSans-51\"/>\n       <use x=\"63.623047\" xlink:href=\"#DejaVuSans-48\"/>\n      </g>\n     </g>\n    </g>\n    <g id=\"xtick_6\">\n     <g id=\"line2d_6\">\n      <g>\n       <use style=\"stroke:#000000;stroke-width:0.8;\" x=\"258.232813\" xlink:href=\"#m3e7ad337d9\" y=\"224.64\"/>\n      </g>\n     </g>\n     <g id=\"text_6\">\n      <!-- 35 -->\n      <g transform=\"translate(251.870313 239.238437)scale(0.1 -0.1)\">\n       <use xlink:href=\"#DejaVuSans-51\"/>\n       <use x=\"63.623047\" xlink:href=\"#DejaVuSans-53\"/>\n      </g>\n     </g>\n    </g>\n    <g id=\"xtick_7\">\n     <g id=\"line2d_7\">\n      <g>\n       <use style=\"stroke:#000000;stroke-width:0.8;\" x=\"300.082813\" xlink:href=\"#m3e7ad337d9\" y=\"224.64\"/>\n      </g>\n     </g>\n     <g id=\"text_7\">\n      <!-- 40 -->\n      <g transform=\"translate(293.720313 239.238437)scale(0.1 -0.1)\">\n       <defs>\n        <path d=\"M 37.796875 64.3125 \nL 12.890625 25.390625 \nL 37.796875 25.390625 \nz\nM 35.203125 72.90625 \nL 47.609375 72.90625 \nL 47.609375 25.390625 \nL 58.015625 25.390625 \nL 58.015625 17.1875 \nL 47.609375 17.1875 \nL 47.609375 0 \nL 37.796875 0 \nL 37.796875 17.1875 \nL 4.890625 17.1875 \nL 4.890625 26.703125 \nz\n\" id=\"DejaVuSans-52\"/>\n       </defs>\n       <use xlink:href=\"#DejaVuSans-52\"/>\n       <use x=\"63.623047\" xlink:href=\"#DejaVuSans-48\"/>\n      </g>\n     </g>\n    </g>\n    <g id=\"xtick_8\">\n     <g id=\"line2d_8\">\n      <g>\n       <use style=\"stroke:#000000;stroke-width:0.8;\" x=\"341.932813\" xlink:href=\"#m3e7ad337d9\" y=\"224.64\"/>\n      </g>\n     </g>\n     <g id=\"text_8\">\n      <!-- 45 -->\n      <g transform=\"translate(335.570312 239.238437)scale(0.1 -0.1)\">\n       <use xlink:href=\"#DejaVuSans-52\"/>\n       <use x=\"63.623047\" xlink:href=\"#DejaVuSans-53\"/>\n      </g>\n     </g>\n    </g>\n    <g id=\"xtick_9\">\n     <g id=\"line2d_9\">\n      <g>\n       <use style=\"stroke:#000000;stroke-width:0.8;\" x=\"383.782813\" xlink:href=\"#m3e7ad337d9\" y=\"224.64\"/>\n      </g>\n     </g>\n     <g id=\"text_9\">\n      <!-- 50 -->\n      <g transform=\"translate(377.420313 239.238437)scale(0.1 -0.1)\">\n       <use xlink:href=\"#DejaVuSans-53\"/>\n       <use x=\"63.623047\" xlink:href=\"#DejaVuSans-48\"/>\n      </g>\n     </g>\n    </g>\n    <g id=\"text_10\">\n     <!-- Predicted Values -->\n     <g transform=\"translate(174.9875 252.916562)scale(0.1 -0.1)\">\n      <defs>\n       <path d=\"M 19.671875 64.796875 \nL 19.671875 37.40625 \nL 32.078125 37.40625 \nQ 38.96875 37.40625 42.71875 40.96875 \nQ 46.484375 44.53125 46.484375 51.125 \nQ 46.484375 57.671875 42.71875 61.234375 \nQ 38.96875 64.796875 32.078125 64.796875 \nz\nM 9.8125 72.90625 \nL 32.078125 72.90625 \nQ 44.34375 72.90625 50.609375 67.359375 \nQ 56.890625 61.8125 56.890625 51.125 \nQ 56.890625 40.328125 50.609375 34.8125 \nQ 44.34375 29.296875 32.078125 29.296875 \nL 19.671875 29.296875 \nL 19.671875 0 \nL 9.8125 0 \nz\n\" id=\"DejaVuSans-80\"/>\n       <path d=\"M 41.109375 46.296875 \nQ 39.59375 47.171875 37.8125 47.578125 \nQ 36.03125 48 33.890625 48 \nQ 26.265625 48 22.1875 43.046875 \nQ 18.109375 38.09375 18.109375 28.8125 \nL 18.109375 0 \nL 9.078125 0 \nL 9.078125 54.6875 \nL 18.109375 54.6875 \nL 18.109375 46.1875 \nQ 20.953125 51.171875 25.484375 53.578125 \nQ 30.03125 56 36.53125 56 \nQ 37.453125 56 38.578125 55.875 \nQ 39.703125 55.765625 41.0625 55.515625 \nz\n\" id=\"DejaVuSans-114\"/>\n       <path d=\"M 56.203125 29.59375 \nL 56.203125 25.203125 \nL 14.890625 25.203125 \nQ 15.484375 15.921875 20.484375 11.0625 \nQ 25.484375 6.203125 34.421875 6.203125 \nQ 39.59375 6.203125 44.453125 7.46875 \nQ 49.3125 8.734375 54.109375 11.28125 \nL 54.109375 2.78125 \nQ 49.265625 0.734375 44.1875 -0.34375 \nQ 39.109375 -1.421875 33.890625 -1.421875 \nQ 20.796875 -1.421875 13.15625 6.1875 \nQ 5.515625 13.8125 5.515625 26.8125 \nQ 5.515625 40.234375 12.765625 48.109375 \nQ 20.015625 56 32.328125 56 \nQ 43.359375 56 49.78125 48.890625 \nQ 56.203125 41.796875 56.203125 29.59375 \nz\nM 47.21875 32.234375 \nQ 47.125 39.59375 43.09375 43.984375 \nQ 39.0625 48.390625 32.421875 48.390625 \nQ 24.90625 48.390625 20.390625 44.140625 \nQ 15.875 39.890625 15.1875 32.171875 \nz\n\" id=\"DejaVuSans-101\"/>\n       <path d=\"M 45.40625 46.390625 \nL 45.40625 75.984375 \nL 54.390625 75.984375 \nL 54.390625 0 \nL 45.40625 0 \nL 45.40625 8.203125 \nQ 42.578125 3.328125 38.25 0.953125 \nQ 33.9375 -1.421875 27.875 -1.421875 \nQ 17.96875 -1.421875 11.734375 6.484375 \nQ 5.515625 14.40625 5.515625 27.296875 \nQ 5.515625 40.1875 11.734375 48.09375 \nQ 17.96875 56 27.875 56 \nQ 33.9375 56 38.25 53.625 \nQ 42.578125 51.265625 45.40625 46.390625 \nz\nM 14.796875 27.296875 \nQ 14.796875 17.390625 18.875 11.75 \nQ 22.953125 6.109375 30.078125 6.109375 \nQ 37.203125 6.109375 41.296875 11.75 \nQ 45.40625 17.390625 45.40625 27.296875 \nQ 45.40625 37.203125 41.296875 42.84375 \nQ 37.203125 48.484375 30.078125 48.484375 \nQ 22.953125 48.484375 18.875 42.84375 \nQ 14.796875 37.203125 14.796875 27.296875 \nz\n\" id=\"DejaVuSans-100\"/>\n       <path d=\"M 9.421875 54.6875 \nL 18.40625 54.6875 \nL 18.40625 0 \nL 9.421875 0 \nz\nM 9.421875 75.984375 \nL 18.40625 75.984375 \nL 18.40625 64.59375 \nL 9.421875 64.59375 \nz\n\" id=\"DejaVuSans-105\"/>\n       <path d=\"M 48.78125 52.59375 \nL 48.78125 44.1875 \nQ 44.96875 46.296875 41.140625 47.34375 \nQ 37.3125 48.390625 33.40625 48.390625 \nQ 24.65625 48.390625 19.8125 42.84375 \nQ 14.984375 37.3125 14.984375 27.296875 \nQ 14.984375 17.28125 19.8125 11.734375 \nQ 24.65625 6.203125 33.40625 6.203125 \nQ 37.3125 6.203125 41.140625 7.25 \nQ 44.96875 8.296875 48.78125 10.40625 \nL 48.78125 2.09375 \nQ 45.015625 0.34375 40.984375 -0.53125 \nQ 36.96875 -1.421875 32.421875 -1.421875 \nQ 20.0625 -1.421875 12.78125 6.34375 \nQ 5.515625 14.109375 5.515625 27.296875 \nQ 5.515625 40.671875 12.859375 48.328125 \nQ 20.21875 56 33.015625 56 \nQ 37.15625 56 41.109375 55.140625 \nQ 45.0625 54.296875 48.78125 52.59375 \nz\n\" id=\"DejaVuSans-99\"/>\n       <path d=\"M 18.3125 70.21875 \nL 18.3125 54.6875 \nL 36.8125 54.6875 \nL 36.8125 47.703125 \nL 18.3125 47.703125 \nL 18.3125 18.015625 \nQ 18.3125 11.328125 20.140625 9.421875 \nQ 21.96875 7.515625 27.59375 7.515625 \nL 36.8125 7.515625 \nL 36.8125 0 \nL 27.59375 0 \nQ 17.1875 0 13.234375 3.875 \nQ 9.28125 7.765625 9.28125 18.015625 \nL 9.28125 47.703125 \nL 2.6875 47.703125 \nL 2.6875 54.6875 \nL 9.28125 54.6875 \nL 9.28125 70.21875 \nz\n\" id=\"DejaVuSans-116\"/>\n       <path id=\"DejaVuSans-32\"/>\n       <path d=\"M 28.609375 0 \nL 0.78125 72.90625 \nL 11.078125 72.90625 \nL 34.1875 11.53125 \nL 57.328125 72.90625 \nL 67.578125 72.90625 \nL 39.796875 0 \nz\n\" id=\"DejaVuSans-86\"/>\n       <path d=\"M 34.28125 27.484375 \nQ 23.390625 27.484375 19.1875 25 \nQ 14.984375 22.515625 14.984375 16.5 \nQ 14.984375 11.71875 18.140625 8.90625 \nQ 21.296875 6.109375 26.703125 6.109375 \nQ 34.1875 6.109375 38.703125 11.40625 \nQ 43.21875 16.703125 43.21875 25.484375 \nL 43.21875 27.484375 \nz\nM 52.203125 31.203125 \nL 52.203125 0 \nL 43.21875 0 \nL 43.21875 8.296875 \nQ 40.140625 3.328125 35.546875 0.953125 \nQ 30.953125 -1.421875 24.3125 -1.421875 \nQ 15.921875 -1.421875 10.953125 3.296875 \nQ 6 8.015625 6 15.921875 \nQ 6 25.140625 12.171875 29.828125 \nQ 18.359375 34.515625 30.609375 34.515625 \nL 43.21875 34.515625 \nL 43.21875 35.40625 \nQ 43.21875 41.609375 39.140625 45 \nQ 35.0625 48.390625 27.6875 48.390625 \nQ 23 48.390625 18.546875 47.265625 \nQ 14.109375 46.140625 10.015625 43.890625 \nL 10.015625 52.203125 \nQ 14.9375 54.109375 19.578125 55.046875 \nQ 24.21875 56 28.609375 56 \nQ 40.484375 56 46.34375 49.84375 \nQ 52.203125 43.703125 52.203125 31.203125 \nz\n\" id=\"DejaVuSans-97\"/>\n       <path d=\"M 9.421875 75.984375 \nL 18.40625 75.984375 \nL 18.40625 0 \nL 9.421875 0 \nz\n\" id=\"DejaVuSans-108\"/>\n       <path d=\"M 8.5 21.578125 \nL 8.5 54.6875 \nL 17.484375 54.6875 \nL 17.484375 21.921875 \nQ 17.484375 14.15625 20.5 10.265625 \nQ 23.53125 6.390625 29.59375 6.390625 \nQ 36.859375 6.390625 41.078125 11.03125 \nQ 45.3125 15.671875 45.3125 23.6875 \nL 45.3125 54.6875 \nL 54.296875 54.6875 \nL 54.296875 0 \nL 45.3125 0 \nL 45.3125 8.40625 \nQ 42.046875 3.421875 37.71875 1 \nQ 33.40625 -1.421875 27.6875 -1.421875 \nQ 18.265625 -1.421875 13.375 4.4375 \nQ 8.5 10.296875 8.5 21.578125 \nz\nM 31.109375 56 \nz\n\" id=\"DejaVuSans-117\"/>\n       <path d=\"M 44.28125 53.078125 \nL 44.28125 44.578125 \nQ 40.484375 46.53125 36.375 47.5 \nQ 32.28125 48.484375 27.875 48.484375 \nQ 21.1875 48.484375 17.84375 46.4375 \nQ 14.5 44.390625 14.5 40.28125 \nQ 14.5 37.15625 16.890625 35.375 \nQ 19.28125 33.59375 26.515625 31.984375 \nL 29.59375 31.296875 \nQ 39.15625 29.25 43.1875 25.515625 \nQ 47.21875 21.78125 47.21875 15.09375 \nQ 47.21875 7.46875 41.1875 3.015625 \nQ 35.15625 -1.421875 24.609375 -1.421875 \nQ 20.21875 -1.421875 15.453125 -0.5625 \nQ 10.6875 0.296875 5.421875 2 \nL 5.421875 11.28125 \nQ 10.40625 8.6875 15.234375 7.390625 \nQ 20.0625 6.109375 24.8125 6.109375 \nQ 31.15625 6.109375 34.5625 8.28125 \nQ 37.984375 10.453125 37.984375 14.40625 \nQ 37.984375 18.0625 35.515625 20.015625 \nQ 33.0625 21.96875 24.703125 23.78125 \nL 21.578125 24.515625 \nQ 13.234375 26.265625 9.515625 29.90625 \nQ 5.8125 33.546875 5.8125 39.890625 \nQ 5.8125 47.609375 11.28125 51.796875 \nQ 16.75 56 26.8125 56 \nQ 31.78125 56 36.171875 55.265625 \nQ 40.578125 54.546875 44.28125 53.078125 \nz\n\" id=\"DejaVuSans-115\"/>\n      </defs>\n      <use xlink:href=\"#DejaVuSans-80\"/>\n      <use x=\"58.552734\" xlink:href=\"#DejaVuSans-114\"/>\n      <use x=\"97.416016\" xlink:href=\"#DejaVuSans-101\"/>\n      <use x=\"158.939453\" xlink:href=\"#DejaVuSans-100\"/>\n      <use x=\"222.416016\" xlink:href=\"#DejaVuSans-105\"/>\n      <use x=\"250.199219\" xlink:href=\"#DejaVuSans-99\"/>\n      <use x=\"305.179688\" xlink:href=\"#DejaVuSans-116\"/>\n      <use x=\"344.388672\" xlink:href=\"#DejaVuSans-101\"/>\n      <use x=\"405.912109\" xlink:href=\"#DejaVuSans-100\"/>\n      <use x=\"469.388672\" xlink:href=\"#DejaVuSans-32\"/>\n      <use x=\"501.175781\" xlink:href=\"#DejaVuSans-86\"/>\n      <use x=\"561.833984\" xlink:href=\"#DejaVuSans-97\"/>\n      <use x=\"623.113281\" xlink:href=\"#DejaVuSans-108\"/>\n      <use x=\"650.896484\" xlink:href=\"#DejaVuSans-117\"/>\n      <use x=\"714.275391\" xlink:href=\"#DejaVuSans-101\"/>\n      <use x=\"775.798828\" xlink:href=\"#DejaVuSans-115\"/>\n     </g>\n    </g>\n   </g>\n   <g id=\"matplotlib.axis_2\">\n    <g id=\"ytick_1\">\n     <g id=\"line2d_10\">\n      <defs>\n       <path d=\"M 0 0 \nL -3.5 0 \n\" id=\"me2d6dcedf6\" style=\"stroke:#000000;stroke-width:0.8;\"/>\n      </defs>\n      <g>\n       <use style=\"stroke:#000000;stroke-width:0.8;\" x=\"48.982813\" xlink:href=\"#me2d6dcedf6\" y=\"216.068297\"/>\n      </g>\n     </g>\n     <g id=\"text_11\">\n      <!-- −40 -->\n      <g transform=\"translate(20.878125 219.867515)scale(0.1 -0.1)\">\n       <defs>\n        <path d=\"M 10.59375 35.5 \nL 73.1875 35.5 \nL 73.1875 27.203125 \nL 10.59375 27.203125 \nz\n\" id=\"DejaVuSans-8722\"/>\n       </defs>\n       <use xlink:href=\"#DejaVuSans-8722\"/>\n       <use x=\"83.789062\" xlink:href=\"#DejaVuSans-52\"/>\n       <use x=\"147.412109\" xlink:href=\"#DejaVuSans-48\"/>\n      </g>\n     </g>\n    </g>\n    <g id=\"ytick_2\">\n     <g id=\"line2d_11\">\n      <g>\n       <use style=\"stroke:#000000;stroke-width:0.8;\" x=\"48.982813\" xlink:href=\"#me2d6dcedf6\" y=\"184.83428\"/>\n      </g>\n     </g>\n     <g id=\"text_12\">\n      <!-- −30 -->\n      <g transform=\"translate(20.878125 188.633499)scale(0.1 -0.1)\">\n       <use xlink:href=\"#DejaVuSans-8722\"/>\n       <use x=\"83.789062\" xlink:href=\"#DejaVuSans-51\"/>\n       <use x=\"147.412109\" xlink:href=\"#DejaVuSans-48\"/>\n      </g>\n     </g>\n    </g>\n    <g id=\"ytick_3\">\n     <g id=\"line2d_12\">\n      <g>\n       <use style=\"stroke:#000000;stroke-width:0.8;\" x=\"48.982813\" xlink:href=\"#me2d6dcedf6\" y=\"153.600263\"/>\n      </g>\n     </g>\n     <g id=\"text_13\">\n      <!-- −20 -->\n      <g transform=\"translate(20.878125 157.399482)scale(0.1 -0.1)\">\n       <use xlink:href=\"#DejaVuSans-8722\"/>\n       <use x=\"83.789062\" xlink:href=\"#DejaVuSans-50\"/>\n       <use x=\"147.412109\" xlink:href=\"#DejaVuSans-48\"/>\n      </g>\n     </g>\n    </g>\n    <g id=\"ytick_4\">\n     <g id=\"line2d_13\">\n      <g>\n       <use style=\"stroke:#000000;stroke-width:0.8;\" x=\"48.982813\" xlink:href=\"#me2d6dcedf6\" y=\"122.366246\"/>\n      </g>\n     </g>\n     <g id=\"text_14\">\n      <!-- −10 -->\n      <g transform=\"translate(20.878125 126.165465)scale(0.1 -0.1)\">\n       <use xlink:href=\"#DejaVuSans-8722\"/>\n       <use x=\"83.789062\" xlink:href=\"#DejaVuSans-49\"/>\n       <use x=\"147.412109\" xlink:href=\"#DejaVuSans-48\"/>\n      </g>\n     </g>\n    </g>\n    <g id=\"ytick_5\">\n     <g id=\"line2d_14\">\n      <g>\n       <use style=\"stroke:#000000;stroke-width:0.8;\" x=\"48.982813\" xlink:href=\"#me2d6dcedf6\" y=\"91.132229\"/>\n      </g>\n     </g>\n     <g id=\"text_15\">\n      <!-- 0 -->\n      <g transform=\"translate(35.620312 94.931448)scale(0.1 -0.1)\">\n       <use xlink:href=\"#DejaVuSans-48\"/>\n      </g>\n     </g>\n    </g>\n    <g id=\"ytick_6\">\n     <g id=\"line2d_15\">\n      <g>\n       <use style=\"stroke:#000000;stroke-width:0.8;\" x=\"48.982813\" xlink:href=\"#me2d6dcedf6\" y=\"59.898213\"/>\n      </g>\n     </g>\n     <g id=\"text_16\">\n      <!-- 10 -->\n      <g transform=\"translate(29.257812 63.697431)scale(0.1 -0.1)\">\n       <use xlink:href=\"#DejaVuSans-49\"/>\n       <use x=\"63.623047\" xlink:href=\"#DejaVuSans-48\"/>\n      </g>\n     </g>\n    </g>\n    <g id=\"ytick_7\">\n     <g id=\"line2d_16\">\n      <g>\n       <use style=\"stroke:#000000;stroke-width:0.8;\" x=\"48.982813\" xlink:href=\"#me2d6dcedf6\" y=\"28.664196\"/>\n      </g>\n     </g>\n     <g id=\"text_17\">\n      <!-- 20 -->\n      <g transform=\"translate(29.257812 32.463415)scale(0.1 -0.1)\">\n       <use xlink:href=\"#DejaVuSans-50\"/>\n       <use x=\"63.623047\" xlink:href=\"#DejaVuSans-48\"/>\n      </g>\n     </g>\n    </g>\n    <g id=\"text_18\">\n     <!-- Residuals -->\n     <g transform=\"translate(14.798437 139.640312)rotate(-90)scale(0.1 -0.1)\">\n      <defs>\n       <path d=\"M 44.390625 34.1875 \nQ 47.5625 33.109375 50.5625 29.59375 \nQ 53.5625 26.078125 56.59375 19.921875 \nL 66.609375 0 \nL 56 0 \nL 46.6875 18.703125 \nQ 43.0625 26.03125 39.671875 28.421875 \nQ 36.28125 30.8125 30.421875 30.8125 \nL 19.671875 30.8125 \nL 19.671875 0 \nL 9.8125 0 \nL 9.8125 72.90625 \nL 32.078125 72.90625 \nQ 44.578125 72.90625 50.734375 67.671875 \nQ 56.890625 62.453125 56.890625 51.90625 \nQ 56.890625 45.015625 53.6875 40.46875 \nQ 50.484375 35.9375 44.390625 34.1875 \nz\nM 19.671875 64.796875 \nL 19.671875 38.921875 \nL 32.078125 38.921875 \nQ 39.203125 38.921875 42.84375 42.21875 \nQ 46.484375 45.515625 46.484375 51.90625 \nQ 46.484375 58.296875 42.84375 61.546875 \nQ 39.203125 64.796875 32.078125 64.796875 \nz\n\" id=\"DejaVuSans-82\"/>\n      </defs>\n      <use xlink:href=\"#DejaVuSans-82\"/>\n      <use x=\"64.982422\" xlink:href=\"#DejaVuSans-101\"/>\n      <use x=\"126.505859\" xlink:href=\"#DejaVuSans-115\"/>\n      <use x=\"178.605469\" xlink:href=\"#DejaVuSans-105\"/>\n      <use x=\"206.388672\" xlink:href=\"#DejaVuSans-100\"/>\n      <use x=\"269.865234\" xlink:href=\"#DejaVuSans-117\"/>\n      <use x=\"333.244141\" xlink:href=\"#DejaVuSans-97\"/>\n      <use x=\"394.523438\" xlink:href=\"#DejaVuSans-108\"/>\n      <use x=\"422.306641\" xlink:href=\"#DejaVuSans-115\"/>\n     </g>\n    </g>\n   </g>\n   <g id=\"LineCollection_1\">\n    <path clip-path=\"url(#p060bd336f3)\" d=\"M -1 91.132229 \nL 383.782813 91.132229 \n\" style=\"fill:none;stroke:#ff0000;stroke-width:2;\"/>\n   </g>\n   <g id=\"patch_3\">\n    <path d=\"M 48.982813 224.64 \nL 48.982813 7.2 \n\" style=\"fill:none;stroke:#000000;stroke-linecap:square;stroke-linejoin:miter;stroke-width:0.8;\"/>\n   </g>\n   <g id=\"patch_4\">\n    <path d=\"M 383.782813 224.64 \nL 383.782813 7.2 \n\" style=\"fill:none;stroke:#000000;stroke-linecap:square;stroke-linejoin:miter;stroke-width:0.8;\"/>\n   </g>\n   <g id=\"patch_5\">\n    <path d=\"M 48.982813 224.64 \nL 383.782813 224.64 \n\" style=\"fill:none;stroke:#000000;stroke-linecap:square;stroke-linejoin:miter;stroke-width:0.8;\"/>\n   </g>\n   <g id=\"patch_6\">\n    <path d=\"M 48.982813 7.2 \nL 383.782813 7.2 \n\" style=\"fill:none;stroke:#000000;stroke-linecap:square;stroke-linejoin:miter;stroke-width:0.8;\"/>\n   </g>\n   <g id=\"legend_1\">\n    <g id=\"patch_7\">\n     <path d=\"M 55.982813 44.55625 \nL 139.025 44.55625 \nQ 141.025 44.55625 141.025 42.55625 \nL 141.025 14.2 \nQ 141.025 12.2 139.025 12.2 \nL 55.982813 12.2 \nQ 53.982813 12.2 53.982813 14.2 \nL 53.982813 42.55625 \nQ 53.982813 44.55625 55.982813 44.55625 \nz\n\" style=\"fill:#ffffff;opacity:0.8;stroke:#cccccc;stroke-linejoin:miter;\"/>\n    </g>\n    <g id=\"PathCollection_3\">\n     <g>\n      <use style=\"fill:#0000ff;stroke:#0000ff;\" x=\"67.982812\" xlink:href=\"#m7d0646a66d\" y=\"21.173437\"/>\n     </g>\n    </g>\n    <g id=\"text_19\">\n     <!-- Train Data -->\n     <g transform=\"translate(85.982812 23.798437)scale(0.1 -0.1)\">\n      <defs>\n       <path d=\"M -0.296875 72.90625 \nL 61.375 72.90625 \nL 61.375 64.59375 \nL 35.5 64.59375 \nL 35.5 0 \nL 25.59375 0 \nL 25.59375 64.59375 \nL -0.296875 64.59375 \nz\n\" id=\"DejaVuSans-84\"/>\n       <path d=\"M 54.890625 33.015625 \nL 54.890625 0 \nL 45.90625 0 \nL 45.90625 32.71875 \nQ 45.90625 40.484375 42.875 44.328125 \nQ 39.84375 48.1875 33.796875 48.1875 \nQ 26.515625 48.1875 22.3125 43.546875 \nQ 18.109375 38.921875 18.109375 30.90625 \nL 18.109375 0 \nL 9.078125 0 \nL 9.078125 54.6875 \nL 18.109375 54.6875 \nL 18.109375 46.1875 \nQ 21.34375 51.125 25.703125 53.5625 \nQ 30.078125 56 35.796875 56 \nQ 45.21875 56 50.046875 50.171875 \nQ 54.890625 44.34375 54.890625 33.015625 \nz\n\" id=\"DejaVuSans-110\"/>\n       <path d=\"M 19.671875 64.796875 \nL 19.671875 8.109375 \nL 31.59375 8.109375 \nQ 46.6875 8.109375 53.6875 14.9375 \nQ 60.6875 21.78125 60.6875 36.53125 \nQ 60.6875 51.171875 53.6875 57.984375 \nQ 46.6875 64.796875 31.59375 64.796875 \nz\nM 9.8125 72.90625 \nL 30.078125 72.90625 \nQ 51.265625 72.90625 61.171875 64.09375 \nQ 71.09375 55.28125 71.09375 36.53125 \nQ 71.09375 17.671875 61.125 8.828125 \nQ 51.171875 0 30.078125 0 \nL 9.8125 0 \nz\n\" id=\"DejaVuSans-68\"/>\n      </defs>\n      <use xlink:href=\"#DejaVuSans-84\"/>\n      <use x=\"46.333984\" xlink:href=\"#DejaVuSans-114\"/>\n      <use x=\"87.447266\" xlink:href=\"#DejaVuSans-97\"/>\n      <use x=\"148.726562\" xlink:href=\"#DejaVuSans-105\"/>\n      <use x=\"176.509766\" xlink:href=\"#DejaVuSans-110\"/>\n      <use x=\"239.888672\" xlink:href=\"#DejaVuSans-32\"/>\n      <use x=\"271.675781\" xlink:href=\"#DejaVuSans-68\"/>\n      <use x=\"348.677734\" xlink:href=\"#DejaVuSans-97\"/>\n      <use x=\"409.957031\" xlink:href=\"#DejaVuSans-116\"/>\n      <use x=\"449.166016\" xlink:href=\"#DejaVuSans-97\"/>\n     </g>\n    </g>\n    <g id=\"PathCollection_4\">\n     <g>\n      <use style=\"fill:#90ee90;stroke:#90ee90;\" x=\"67.982812\" xlink:href=\"#m547c8fd21b\" y=\"35.851562\"/>\n     </g>\n    </g>\n    <g id=\"text_20\">\n     <!-- Test Data -->\n     <g transform=\"translate(85.982812 38.476562)scale(0.1 -0.1)\">\n      <use xlink:href=\"#DejaVuSans-84\"/>\n      <use x=\"44.083984\" xlink:href=\"#DejaVuSans-101\"/>\n      <use x=\"105.607422\" xlink:href=\"#DejaVuSans-115\"/>\n      <use x=\"157.707031\" xlink:href=\"#DejaVuSans-116\"/>\n      <use x=\"196.916016\" xlink:href=\"#DejaVuSans-32\"/>\n      <use x=\"228.703125\" xlink:href=\"#DejaVuSans-68\"/>\n      <use x=\"305.705078\" xlink:href=\"#DejaVuSans-97\"/>\n      <use x=\"366.984375\" xlink:href=\"#DejaVuSans-116\"/>\n      <use x=\"406.193359\" xlink:href=\"#DejaVuSans-97\"/>\n     </g>\n    </g>\n   </g>\n  </g>\n </g>\n <defs>\n  <clipPath id=\"p060bd336f3\">\n   <rect height=\"217.44\" width=\"334.8\" x=\"48.982813\" y=\"7.2\"/>\n  </clipPath>\n </defs>\n</svg>\n",
      "image/png": "[encoded data removed]"
     },
     "metadata": {
      "needs_background": "light"
     }
    }
   ],
   "source": [
    "# 学習用、検証用それぞれで残差をプロット\n",
    "plt.scatter(y_train_pred, y_train_pred - y_train, c = 'blue', marker = 'o', label = 'Train Data')\n",
    "plt.scatter(y_test_pred, y_test_pred - y_test, c = 'lightgreen', marker = 's', label = 'Test Data')\n",
    "plt.xlabel('Predicted Values')\n",
    "plt.ylabel('Residuals')\n",
    "# 凡例を左上に表示\n",
    "plt.legend(loc = 'upper left')\n",
    "# y = 0に直線を引く\n",
    "plt.hlines(y = 0, xmin = -10, xmax = 50, lw = 2, color = 'red')\n",
    "plt.xlim([10, 50])\n",
    "plt.show()"
   ]
  },
  {
   "cell_type": "code",
   "execution_count": 43,
   "metadata": {},
   "outputs": [
    {
     "output_type": "stream",
     "name": "stdout",
     "text": [
      "MSE Train : 44.983, Test : 40.412\nR^2 Train : 0.500, Test : 0.434\n"
     ]
    }
   ],
   "source": [
    "# 平均二乗誤差を評価するためのメソッドを呼び出し\n",
    "from sklearn.metrics import mean_squared_error\n",
    "# 学習用、検証用データに関して平均二乗誤差を出力\n",
    "print('MSE Train : %.3f, Test : %.3f' % (mean_squared_error(y_train, y_train_pred), mean_squared_error(y_test, y_test_pred)))\n",
    "# 学習用、検証用データに関してR^2を出力\n",
    "print('R^2 Train : %.3f, Test : %.3f' % (model.score(X_train, y_train), model.score(X_test, y_test)))"
   ]
  },
  {
   "cell_type": "code",
   "execution_count": null,
   "metadata": {},
   "outputs": [],
   "source": []
  }
 ],
 "metadata": {
  "kernelspec": {
   "display_name": "Python 3",
   "language": "python",
   "name": "python3"
  },
  "language_info": {
   "codemirror_mode": {
    "name": "ipython",
    "version": 3
   },
   "file_extension": ".py",
   "mimetype": "text/x-python",
   "name": "python",
   "nbconvert_exporter": "python",
   "pygments_lexer": "ipython3",
   "version": "3.8.2-final"
  }
 },
 "nbformat": 4,
 "nbformat_minor": 2
}